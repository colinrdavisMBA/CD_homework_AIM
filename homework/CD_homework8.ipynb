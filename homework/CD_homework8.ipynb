{
  "cells": [
    {
      "cell_type": "markdown",
      "metadata": {
        "id": "x5TTdyIoo3i7"
      },
      "source": [
        "# Creating a LlamaIndex RAG Pipeline with NL2SQL and Metadata Filtering!\n",
        "\n",
        "We'll be putting together a system for querying both qualitative and quantitative data using LlamaIndex.\n",
        "\n",
        "The acitvities will be broken down as follows:\n",
        "\n",
        "- 🤝 Breakout Room #1\n",
        "  - Task 1: Load Dependencies\n",
        "  - Task 2: Set Env Variables and Set Up WandB Callback\n",
        "  - Task 3: Initialize Settings\n",
        "  - Task 4: Semantic RAG Pipeline with Metadata Filtering\n",
        "- 🤝 Breakout Room #2\n",
        "  - Task 1: Quantitative RAG Pipeline with NL2SQL Tooling\n",
        "  - Task 2: Combined RAG Pipeline\n",
        "\n",
        "Before we get started, however, a quick note on terminology.\n"
      ]
    },
    {
      "cell_type": "markdown",
      "metadata": {
        "id": "vcvGuykZSV_8"
      },
      "source": [
        "### A note on terminology:\n",
        "\n",
        "You'll notice that there are quite a few similarities between LangChain and LlamaIndex. LlamaIndex can largely be thought of as an extension to LangChain, in some ways - but they moved some of the language around. Let's spend a few moments disambiguating the language.\n",
        "\n",
        "- `QueryEngine` -> `LCEL Chain`:\n",
        "  -  `QueryEngine` is just LlamaIndex's way of indicating something is an LLM \"chain\" on top of a retrieval system\n",
        "- `OpenAIAgent` vs. `Agent`:\n",
        "  - The two agents have the same fundamental pattern: Decide which of a list of tools to use to answer a user's query.\n",
        "  - `OpenAIAgent` (LlamaIndex's primary agent) does not need to rely on an agent excecutor due to the fact that it is leveraging OpenAI's [functional api](https://openai.com/blog/function-calling-and-other-api-updates) which allows the agent to interface \"directly\" with the tools instead of operating through an intermediary application process.\n",
        "\n",
        "There is, however, a much large terminological difference when it comes to discussing data.\n",
        "\n",
        "##### Nodes vs. Documents\n",
        "\n",
        "As you're aware of from the previous weeks assignments, there's an idea of `documents` in NLP which refers to text objects that exist within a corpus of documents.\n",
        "\n",
        "LlamaIndex takes this a step further and reclassifies `documents` as `nodes`. Confusingly, it refers to the `Source Document` as simply `Documents`.\n",
        "\n",
        "The `Document` -> `node` structure is, almost exactly, equivalent to the `Source Document` -> `Document` structure found in LangChain - but the new terminology comes with some clarity about different structure-indices.\n",
        "\n",
        "We won't be leveraging those structured indicies today, but we will be leveraging a \"benefit\" of the `node` structure that exists as a default in LlamaIndex, which is the ability to quickly filter nodes based on their metadata.\n",
        "\n",
        "![image](https://i.imgur.com/B1QDjs5.png)"
      ]
    },
    {
      "cell_type": "markdown",
      "metadata": {
        "id": "dkLLmDFnOfOs"
      },
      "source": [
        "# 🤝 Breakout Room #1"
      ]
    },
    {
      "cell_type": "markdown",
      "metadata": {
        "id": "Msvju70DSV_8"
      },
      "source": [
        "## BOILERPLATE\n",
        "\n",
        "This is only relevant when running the code in a Jupyter Notebook."
      ]
    },
    {
      "cell_type": "code",
      "execution_count": 2,
      "metadata": {
        "id": "7VF57GcmSV_9"
      },
      "outputs": [],
      "source": [
        "import nest_asyncio\n",
        "\n",
        "nest_asyncio.apply()\n",
        "\n",
        "import logging\n",
        "import sys\n",
        "\n",
        "logging.basicConfig(stream=sys.stdout, level=logging.INFO)\n",
        "logging.getLogger().addHandler(logging.StreamHandler(stream=sys.stdout))"
      ]
    },
    {
      "cell_type": "markdown",
      "metadata": {
        "id": "6zQBPs6zSV_9"
      },
      "source": [
        "## Task 1: Load Dependencies"
      ]
    },
    {
      "cell_type": "markdown",
      "metadata": {
        "id": "WhEbxl3nSV_9"
      },
      "source": [
        "Let's grab our core `llama-index` library, as well as OpenAI's Python SDK.\n",
        "\n",
        "We'll be leveraging OpenAI's suite of APIs to power our RAG pipelines today.\n",
        "\n",
        "> NOTE: You can safely ignore any pip errors that occur during the running of these cells."
      ]
    },
    {
      "cell_type": "code",
      "execution_count": 3,
      "metadata": {
        "colab": {
          "base_uri": "https://localhost:8080/"
        },
        "id": "b3oyvtl2SV_9",
        "outputId": "41ef9ab4-5cb6-4094-b9aa-99eeb78378fd"
      },
      "outputs": [
        {
          "name": "stdout",
          "output_type": "stream",
          "text": [
            "\n",
            "\u001b[1m[\u001b[0m\u001b[34;49mnotice\u001b[0m\u001b[1;39;49m]\u001b[0m\u001b[39;49m A new release of pip is available: \u001b[0m\u001b[31;49m23.1.2\u001b[0m\u001b[39;49m -> \u001b[0m\u001b[32;49m24.0\u001b[0m\n",
            "\u001b[1m[\u001b[0m\u001b[34;49mnotice\u001b[0m\u001b[1;39;49m]\u001b[0m\u001b[39;49m To update, run: \u001b[0m\u001b[32;49mpip install --upgrade pip\u001b[0m\n"
          ]
        }
      ],
      "source": [
        "!pip install -qU llama-index openai"
      ]
    },
    {
      "cell_type": "markdown",
      "metadata": {
        "id": "6Jifl-qHO8MU"
      },
      "source": [
        "We'll be using [Weights and Biases](https://docs.wandb.ai/guides/prompts) (WandB) again for today's notebook!"
      ]
    },
    {
      "cell_type": "code",
      "execution_count": 4,
      "metadata": {
        "colab": {
          "base_uri": "https://localhost:8080/"
        },
        "id": "9UcQpjG9Ovlk",
        "outputId": "b3e91a48-4b52-4c10-c0e7-30b7c3b4bd97"
      },
      "outputs": [
        {
          "name": "stdout",
          "output_type": "stream",
          "text": [
            "\n",
            "\u001b[1m[\u001b[0m\u001b[34;49mnotice\u001b[0m\u001b[1;39;49m]\u001b[0m\u001b[39;49m A new release of pip is available: \u001b[0m\u001b[31;49m23.1.2\u001b[0m\u001b[39;49m -> \u001b[0m\u001b[32;49m24.0\u001b[0m\n",
            "\u001b[1m[\u001b[0m\u001b[34;49mnotice\u001b[0m\u001b[1;39;49m]\u001b[0m\u001b[39;49m To update, run: \u001b[0m\u001b[32;49mpip install --upgrade pip\u001b[0m\n"
          ]
        }
      ],
      "source": [
        "!pip install -qU wandb llama-index-callbacks-wandb"
      ]
    },
    {
      "cell_type": "markdown",
      "metadata": {
        "id": "uqTXRTrLPatl"
      },
      "source": [
        "We'll be collecting our semantic data from Wikipedia - and so will need the [Wikipedia Reader](https://github.com/run-llama/llama_index/tree/main/llama-index-integrations/readers/llama-index-readers-wikipedia)!"
      ]
    },
    {
      "cell_type": "code",
      "execution_count": 5,
      "metadata": {
        "colab": {
          "base_uri": "https://localhost:8080/"
        },
        "id": "f9kXf7pPSV_-",
        "outputId": "ea5f9d33-0448-4ecc-9814-ad0e42b867cc"
      },
      "outputs": [
        {
          "name": "stdout",
          "output_type": "stream",
          "text": [
            "\n",
            "\u001b[1m[\u001b[0m\u001b[34;49mnotice\u001b[0m\u001b[1;39;49m]\u001b[0m\u001b[39;49m A new release of pip is available: \u001b[0m\u001b[31;49m23.1.2\u001b[0m\u001b[39;49m -> \u001b[0m\u001b[32;49m24.0\u001b[0m\n",
            "\u001b[1m[\u001b[0m\u001b[34;49mnotice\u001b[0m\u001b[1;39;49m]\u001b[0m\u001b[39;49m To update, run: \u001b[0m\u001b[32;49mpip install --upgrade pip\u001b[0m\n"
          ]
        }
      ],
      "source": [
        "!pip install -qU wikipedia llama-index-readers-wikipedia"
      ]
    },
    {
      "cell_type": "markdown",
      "metadata": {
        "id": "Qq_rWHZEPrCO"
      },
      "source": [
        "Our vector database today will be powered by [ChromaDB](https://github.com/chroma-core/chroma) and so we'll need that package as well!"
      ]
    },
    {
      "cell_type": "code",
      "execution_count": 6,
      "metadata": {
        "id": "iMCA8HFGEPF_"
      },
      "outputs": [
        {
          "name": "stdout",
          "output_type": "stream",
          "text": [
            "\n",
            "\u001b[1m[\u001b[0m\u001b[34;49mnotice\u001b[0m\u001b[1;39;49m]\u001b[0m\u001b[39;49m A new release of pip is available: \u001b[0m\u001b[31;49m23.1.2\u001b[0m\u001b[39;49m -> \u001b[0m\u001b[32;49m24.0\u001b[0m\n",
            "\u001b[1m[\u001b[0m\u001b[34;49mnotice\u001b[0m\u001b[1;39;49m]\u001b[0m\u001b[39;49m To update, run: \u001b[0m\u001b[32;49mpip install --upgrade pip\u001b[0m\n"
          ]
        }
      ],
      "source": [
        "!pip install -qU chromadb llama-index-vector-stores-chroma"
      ]
    },
    {
      "cell_type": "markdown",
      "metadata": {
        "id": "wNHDqna1P1NQ"
      },
      "source": [
        "Finally, we'll need to grab a few dependencies related to our quantitative data!"
      ]
    },
    {
      "cell_type": "code",
      "execution_count": 7,
      "metadata": {
        "colab": {
          "base_uri": "https://localhost:8080/"
        },
        "id": "BrT8a3c0SV__",
        "outputId": "8d4e55c9-158f-4ce5-8308-11da18072bec"
      },
      "outputs": [
        {
          "name": "stdout",
          "output_type": "stream",
          "text": [
            "\n",
            "\u001b[1m[\u001b[0m\u001b[34;49mnotice\u001b[0m\u001b[1;39;49m]\u001b[0m\u001b[39;49m A new release of pip is available: \u001b[0m\u001b[31;49m23.1.2\u001b[0m\u001b[39;49m -> \u001b[0m\u001b[32;49m24.0\u001b[0m\n",
            "\u001b[1m[\u001b[0m\u001b[34;49mnotice\u001b[0m\u001b[1;39;49m]\u001b[0m\u001b[39;49m To update, run: \u001b[0m\u001b[32;49mpip install --upgrade pip\u001b[0m\n"
          ]
        }
      ],
      "source": [
        "!pip install -q -U sqlalchemy pandas"
      ]
    },
    {
      "cell_type": "markdown",
      "metadata": {
        "id": "WuZM6UjePVBk"
      },
      "source": [
        "We'll grab some additional miscellaneous dependencies here."
      ]
    },
    {
      "cell_type": "code",
      "execution_count": 8,
      "metadata": {
        "colab": {
          "base_uri": "https://localhost:8080/"
        },
        "id": "vqPJv3jUSV_-",
        "outputId": "b3386786-8dc0-45a8-e1ef-b2affe6a1315"
      },
      "outputs": [
        {
          "name": "stdout",
          "output_type": "stream",
          "text": [
            "\u001b[31mERROR: pip's dependency resolver does not currently take into account all the packages that are installed. This behaviour is the source of the following dependency conflicts.\n",
            "langchain-openai 0.0.8 requires tiktoken<1,>=0.5.2, but you have tiktoken 0.4.0 which is incompatible.\u001b[0m\u001b[31m\n",
            "\u001b[0m\n",
            "\u001b[1m[\u001b[0m\u001b[34;49mnotice\u001b[0m\u001b[1;39;49m]\u001b[0m\u001b[39;49m A new release of pip is available: \u001b[0m\u001b[31;49m23.1.2\u001b[0m\u001b[39;49m -> \u001b[0m\u001b[32;49m24.0\u001b[0m\n",
            "\u001b[1m[\u001b[0m\u001b[34;49mnotice\u001b[0m\u001b[1;39;49m]\u001b[0m\u001b[39;49m To update, run: \u001b[0m\u001b[32;49mpip install --upgrade pip\u001b[0m\n"
          ]
        }
      ],
      "source": [
        "!pip install -U -q tiktoken==0.4.0 sentence-transformers==2.2.2 pydantic==1.10.11"
      ]
    },
    {
      "cell_type": "code",
      "execution_count": 9,
      "metadata": {},
      "outputs": [
        {
          "name": "stdout",
          "output_type": "stream",
          "text": [
            "Collecting tiktoken==0.5.2\n",
            "  Using cached tiktoken-0.5.2-cp311-cp311-macosx_11_0_arm64.whl (953 kB)\n",
            "Requirement already satisfied: regex>=2022.1.18 in /Users/colin.davis/.virtualenvs/cd_llm_env/lib/python3.11/site-packages (from tiktoken==0.5.2) (2023.8.8)\n",
            "Requirement already satisfied: requests>=2.26.0 in /Users/colin.davis/.virtualenvs/cd_llm_env/lib/python3.11/site-packages (from tiktoken==0.5.2) (2.31.0)\n",
            "Requirement already satisfied: charset-normalizer<4,>=2 in /Users/colin.davis/.virtualenvs/cd_llm_env/lib/python3.11/site-packages (from requests>=2.26.0->tiktoken==0.5.2) (3.3.2)\n",
            "Requirement already satisfied: idna<4,>=2.5 in /Users/colin.davis/.virtualenvs/cd_llm_env/lib/python3.11/site-packages (from requests>=2.26.0->tiktoken==0.5.2) (3.6)\n",
            "Requirement already satisfied: urllib3<3,>=1.21.1 in /Users/colin.davis/.virtualenvs/cd_llm_env/lib/python3.11/site-packages (from requests>=2.26.0->tiktoken==0.5.2) (2.2.1)\n",
            "Requirement already satisfied: certifi>=2017.4.17 in /Users/colin.davis/.virtualenvs/cd_llm_env/lib/python3.11/site-packages (from requests>=2.26.0->tiktoken==0.5.2) (2024.2.2)\n",
            "Installing collected packages: tiktoken\n",
            "  Attempting uninstall: tiktoken\n",
            "    Found existing installation: tiktoken 0.4.0\n",
            "    Uninstalling tiktoken-0.4.0:\n",
            "      Successfully uninstalled tiktoken-0.4.0\n",
            "Successfully installed tiktoken-0.5.2\n",
            "\n",
            "\u001b[1m[\u001b[0m\u001b[34;49mnotice\u001b[0m\u001b[1;39;49m]\u001b[0m\u001b[39;49m A new release of pip is available: \u001b[0m\u001b[31;49m23.1.2\u001b[0m\u001b[39;49m -> \u001b[0m\u001b[32;49m24.0\u001b[0m\n",
            "\u001b[1m[\u001b[0m\u001b[34;49mnotice\u001b[0m\u001b[1;39;49m]\u001b[0m\u001b[39;49m To update, run: \u001b[0m\u001b[32;49mpip install --upgrade pip\u001b[0m\n",
            "Requirement already satisfied: spacy==3.7.0 in /Users/colin.davis/.virtualenvs/cd_llm_env/lib/python3.11/site-packages (3.7.0)\n",
            "Requirement already satisfied: spacy-legacy<3.1.0,>=3.0.11 in /Users/colin.davis/.virtualenvs/cd_llm_env/lib/python3.11/site-packages (from spacy==3.7.0) (3.0.12)\n",
            "Requirement already satisfied: spacy-loggers<2.0.0,>=1.0.0 in /Users/colin.davis/.virtualenvs/cd_llm_env/lib/python3.11/site-packages (from spacy==3.7.0) (1.0.5)\n",
            "Requirement already satisfied: murmurhash<1.1.0,>=0.28.0 in /Users/colin.davis/.virtualenvs/cd_llm_env/lib/python3.11/site-packages (from spacy==3.7.0) (1.0.10)\n",
            "Requirement already satisfied: cymem<2.1.0,>=2.0.2 in /Users/colin.davis/.virtualenvs/cd_llm_env/lib/python3.11/site-packages (from spacy==3.7.0) (2.0.8)\n",
            "Requirement already satisfied: preshed<3.1.0,>=3.0.2 in /Users/colin.davis/.virtualenvs/cd_llm_env/lib/python3.11/site-packages (from spacy==3.7.0) (3.0.9)\n",
            "Requirement already satisfied: thinc<8.3.0,>=8.1.8 in /Users/colin.davis/.virtualenvs/cd_llm_env/lib/python3.11/site-packages (from spacy==3.7.0) (8.2.1)\n",
            "Requirement already satisfied: wasabi<1.2.0,>=0.9.1 in /Users/colin.davis/.virtualenvs/cd_llm_env/lib/python3.11/site-packages (from spacy==3.7.0) (1.1.2)\n",
            "Requirement already satisfied: srsly<3.0.0,>=2.4.3 in /Users/colin.davis/.virtualenvs/cd_llm_env/lib/python3.11/site-packages (from spacy==3.7.0) (2.4.8)\n",
            "Requirement already satisfied: catalogue<2.1.0,>=2.0.6 in /Users/colin.davis/.virtualenvs/cd_llm_env/lib/python3.11/site-packages (from spacy==3.7.0) (2.0.10)\n",
            "Requirement already satisfied: weasel<0.4.0,>=0.1.0 in /Users/colin.davis/.virtualenvs/cd_llm_env/lib/python3.11/site-packages (from spacy==3.7.0) (0.3.4)\n",
            "Requirement already satisfied: typer<0.10.0,>=0.3.0 in /Users/colin.davis/.virtualenvs/cd_llm_env/lib/python3.11/site-packages (from spacy==3.7.0) (0.9.0)\n",
            "Requirement already satisfied: pathy>=0.10.0 in /Users/colin.davis/.virtualenvs/cd_llm_env/lib/python3.11/site-packages (from spacy==3.7.0) (0.11.0)\n",
            "Requirement already satisfied: smart-open<7.0.0,>=5.2.1 in /Users/colin.davis/.virtualenvs/cd_llm_env/lib/python3.11/site-packages (from spacy==3.7.0) (6.4.0)\n",
            "Requirement already satisfied: tqdm<5.0.0,>=4.38.0 in /Users/colin.davis/.virtualenvs/cd_llm_env/lib/python3.11/site-packages (from spacy==3.7.0) (4.66.2)\n",
            "Requirement already satisfied: requests<3.0.0,>=2.13.0 in /Users/colin.davis/.virtualenvs/cd_llm_env/lib/python3.11/site-packages (from spacy==3.7.0) (2.31.0)\n",
            "Requirement already satisfied: pydantic!=1.8,!=1.8.1,<3.0.0,>=1.7.4 in /Users/colin.davis/.virtualenvs/cd_llm_env/lib/python3.11/site-packages (from spacy==3.7.0) (1.10.11)\n",
            "Requirement already satisfied: jinja2 in /Users/colin.davis/.virtualenvs/cd_llm_env/lib/python3.11/site-packages (from spacy==3.7.0) (3.1.2)\n",
            "Requirement already satisfied: setuptools in /Users/colin.davis/.virtualenvs/cd_llm_env/lib/python3.11/site-packages (from spacy==3.7.0) (65.5.0)\n",
            "Requirement already satisfied: packaging>=20.0 in /Users/colin.davis/.virtualenvs/cd_llm_env/lib/python3.11/site-packages (from spacy==3.7.0) (23.2)\n",
            "Requirement already satisfied: langcodes<4.0.0,>=3.2.0 in /Users/colin.davis/.virtualenvs/cd_llm_env/lib/python3.11/site-packages (from spacy==3.7.0) (3.3.0)\n",
            "Requirement already satisfied: numpy>=1.19.0 in /Users/colin.davis/.virtualenvs/cd_llm_env/lib/python3.11/site-packages (from spacy==3.7.0) (1.26.2)\n",
            "Requirement already satisfied: pathlib-abc==0.1.1 in /Users/colin.davis/.virtualenvs/cd_llm_env/lib/python3.11/site-packages (from pathy>=0.10.0->spacy==3.7.0) (0.1.1)\n",
            "Requirement already satisfied: typing-extensions>=4.2.0 in /Users/colin.davis/.virtualenvs/cd_llm_env/lib/python3.11/site-packages (from pydantic!=1.8,!=1.8.1,<3.0.0,>=1.7.4->spacy==3.7.0) (4.9.0)\n",
            "Requirement already satisfied: charset-normalizer<4,>=2 in /Users/colin.davis/.virtualenvs/cd_llm_env/lib/python3.11/site-packages (from requests<3.0.0,>=2.13.0->spacy==3.7.0) (3.3.2)\n",
            "Requirement already satisfied: idna<4,>=2.5 in /Users/colin.davis/.virtualenvs/cd_llm_env/lib/python3.11/site-packages (from requests<3.0.0,>=2.13.0->spacy==3.7.0) (3.6)\n",
            "Requirement already satisfied: urllib3<3,>=1.21.1 in /Users/colin.davis/.virtualenvs/cd_llm_env/lib/python3.11/site-packages (from requests<3.0.0,>=2.13.0->spacy==3.7.0) (2.2.1)\n",
            "Requirement already satisfied: certifi>=2017.4.17 in /Users/colin.davis/.virtualenvs/cd_llm_env/lib/python3.11/site-packages (from requests<3.0.0,>=2.13.0->spacy==3.7.0) (2024.2.2)\n",
            "Requirement already satisfied: blis<0.8.0,>=0.7.8 in /Users/colin.davis/.virtualenvs/cd_llm_env/lib/python3.11/site-packages (from thinc<8.3.0,>=8.1.8->spacy==3.7.0) (0.7.11)\n",
            "Requirement already satisfied: confection<1.0.0,>=0.0.1 in /Users/colin.davis/.virtualenvs/cd_llm_env/lib/python3.11/site-packages (from thinc<8.3.0,>=8.1.8->spacy==3.7.0) (0.1.3)\n",
            "Requirement already satisfied: click<9.0.0,>=7.1.1 in /Users/colin.davis/.virtualenvs/cd_llm_env/lib/python3.11/site-packages (from typer<0.10.0,>=0.3.0->spacy==3.7.0) (8.1.7)\n",
            "Requirement already satisfied: cloudpathlib<0.17.0,>=0.7.0 in /Users/colin.davis/.virtualenvs/cd_llm_env/lib/python3.11/site-packages (from weasel<0.4.0,>=0.1.0->spacy==3.7.0) (0.16.0)\n",
            "Requirement already satisfied: MarkupSafe>=2.0 in /Users/colin.davis/.virtualenvs/cd_llm_env/lib/python3.11/site-packages (from jinja2->spacy==3.7.0) (2.1.3)\n",
            "\n",
            "\u001b[1m[\u001b[0m\u001b[34;49mnotice\u001b[0m\u001b[1;39;49m]\u001b[0m\u001b[39;49m A new release of pip is available: \u001b[0m\u001b[31;49m23.1.2\u001b[0m\u001b[39;49m -> \u001b[0m\u001b[32;49m24.0\u001b[0m\n",
            "\u001b[1m[\u001b[0m\u001b[34;49mnotice\u001b[0m\u001b[1;39;49m]\u001b[0m\u001b[39;49m To update, run: \u001b[0m\u001b[32;49mpip install --upgrade pip\u001b[0m\n",
            "Requirement already satisfied: sentence-transformers==2.2.2 in /Users/colin.davis/.virtualenvs/cd_llm_env/lib/python3.11/site-packages (2.2.2)\n",
            "Requirement already satisfied: transformers<5.0.0,>=4.6.0 in /Users/colin.davis/.virtualenvs/cd_llm_env/lib/python3.11/site-packages (from sentence-transformers==2.2.2) (4.38.1)\n",
            "Requirement already satisfied: tqdm in /Users/colin.davis/.virtualenvs/cd_llm_env/lib/python3.11/site-packages (from sentence-transformers==2.2.2) (4.66.2)\n",
            "Requirement already satisfied: torch>=1.6.0 in /Users/colin.davis/.virtualenvs/cd_llm_env/lib/python3.11/site-packages (from sentence-transformers==2.2.2) (2.2.1)\n",
            "Requirement already satisfied: torchvision in /Users/colin.davis/.virtualenvs/cd_llm_env/lib/python3.11/site-packages (from sentence-transformers==2.2.2) (0.17.1)\n",
            "Requirement already satisfied: numpy in /Users/colin.davis/.virtualenvs/cd_llm_env/lib/python3.11/site-packages (from sentence-transformers==2.2.2) (1.26.2)\n",
            "Requirement already satisfied: scikit-learn in /Users/colin.davis/.virtualenvs/cd_llm_env/lib/python3.11/site-packages (from sentence-transformers==2.2.2) (1.3.2)\n",
            "Requirement already satisfied: scipy in /Users/colin.davis/.virtualenvs/cd_llm_env/lib/python3.11/site-packages (from sentence-transformers==2.2.2) (1.11.2)\n",
            "Requirement already satisfied: nltk in /Users/colin.davis/.virtualenvs/cd_llm_env/lib/python3.11/site-packages (from sentence-transformers==2.2.2) (3.8.1)\n",
            "Requirement already satisfied: sentencepiece in /Users/colin.davis/.virtualenvs/cd_llm_env/lib/python3.11/site-packages (from sentence-transformers==2.2.2) (0.1.99)\n",
            "Requirement already satisfied: huggingface-hub>=0.4.0 in /Users/colin.davis/.virtualenvs/cd_llm_env/lib/python3.11/site-packages (from sentence-transformers==2.2.2) (0.19.4)\n",
            "Requirement already satisfied: filelock in /Users/colin.davis/.virtualenvs/cd_llm_env/lib/python3.11/site-packages (from huggingface-hub>=0.4.0->sentence-transformers==2.2.2) (3.12.4)\n",
            "Requirement already satisfied: fsspec>=2023.5.0 in /Users/colin.davis/.virtualenvs/cd_llm_env/lib/python3.11/site-packages (from huggingface-hub>=0.4.0->sentence-transformers==2.2.2) (2023.9.1)\n",
            "Requirement already satisfied: requests in /Users/colin.davis/.virtualenvs/cd_llm_env/lib/python3.11/site-packages (from huggingface-hub>=0.4.0->sentence-transformers==2.2.2) (2.31.0)\n",
            "Requirement already satisfied: pyyaml>=5.1 in /Users/colin.davis/.virtualenvs/cd_llm_env/lib/python3.11/site-packages (from huggingface-hub>=0.4.0->sentence-transformers==2.2.2) (6.0.1)\n",
            "Requirement already satisfied: typing-extensions>=3.7.4.3 in /Users/colin.davis/.virtualenvs/cd_llm_env/lib/python3.11/site-packages (from huggingface-hub>=0.4.0->sentence-transformers==2.2.2) (4.9.0)\n",
            "Requirement already satisfied: packaging>=20.9 in /Users/colin.davis/.virtualenvs/cd_llm_env/lib/python3.11/site-packages (from huggingface-hub>=0.4.0->sentence-transformers==2.2.2) (23.2)\n",
            "Requirement already satisfied: sympy in /Users/colin.davis/.virtualenvs/cd_llm_env/lib/python3.11/site-packages (from torch>=1.6.0->sentence-transformers==2.2.2) (1.12)\n",
            "Requirement already satisfied: networkx in /Users/colin.davis/.virtualenvs/cd_llm_env/lib/python3.11/site-packages (from torch>=1.6.0->sentence-transformers==2.2.2) (3.2.1)\n",
            "Requirement already satisfied: jinja2 in /Users/colin.davis/.virtualenvs/cd_llm_env/lib/python3.11/site-packages (from torch>=1.6.0->sentence-transformers==2.2.2) (3.1.2)\n",
            "Requirement already satisfied: regex!=2019.12.17 in /Users/colin.davis/.virtualenvs/cd_llm_env/lib/python3.11/site-packages (from transformers<5.0.0,>=4.6.0->sentence-transformers==2.2.2) (2023.8.8)\n",
            "Requirement already satisfied: tokenizers<0.19,>=0.14 in /Users/colin.davis/.virtualenvs/cd_llm_env/lib/python3.11/site-packages (from transformers<5.0.0,>=4.6.0->sentence-transformers==2.2.2) (0.15.2)\n",
            "Requirement already satisfied: safetensors>=0.4.1 in /Users/colin.davis/.virtualenvs/cd_llm_env/lib/python3.11/site-packages (from transformers<5.0.0,>=4.6.0->sentence-transformers==2.2.2) (0.4.1)\n",
            "Requirement already satisfied: click in /Users/colin.davis/.virtualenvs/cd_llm_env/lib/python3.11/site-packages (from nltk->sentence-transformers==2.2.2) (8.1.7)\n",
            "Requirement already satisfied: joblib in /Users/colin.davis/.virtualenvs/cd_llm_env/lib/python3.11/site-packages (from nltk->sentence-transformers==2.2.2) (1.3.2)\n",
            "Requirement already satisfied: threadpoolctl>=2.0.0 in /Users/colin.davis/.virtualenvs/cd_llm_env/lib/python3.11/site-packages (from scikit-learn->sentence-transformers==2.2.2) (3.2.0)\n",
            "Requirement already satisfied: pillow!=8.3.*,>=5.3.0 in /Users/colin.davis/.virtualenvs/cd_llm_env/lib/python3.11/site-packages (from torchvision->sentence-transformers==2.2.2) (10.0.1)\n",
            "Requirement already satisfied: MarkupSafe>=2.0 in /Users/colin.davis/.virtualenvs/cd_llm_env/lib/python3.11/site-packages (from jinja2->torch>=1.6.0->sentence-transformers==2.2.2) (2.1.3)\n",
            "Requirement already satisfied: charset-normalizer<4,>=2 in /Users/colin.davis/.virtualenvs/cd_llm_env/lib/python3.11/site-packages (from requests->huggingface-hub>=0.4.0->sentence-transformers==2.2.2) (3.3.2)\n",
            "Requirement already satisfied: idna<4,>=2.5 in /Users/colin.davis/.virtualenvs/cd_llm_env/lib/python3.11/site-packages (from requests->huggingface-hub>=0.4.0->sentence-transformers==2.2.2) (3.6)\n",
            "Requirement already satisfied: urllib3<3,>=1.21.1 in /Users/colin.davis/.virtualenvs/cd_llm_env/lib/python3.11/site-packages (from requests->huggingface-hub>=0.4.0->sentence-transformers==2.2.2) (2.2.1)\n",
            "Requirement already satisfied: certifi>=2017.4.17 in /Users/colin.davis/.virtualenvs/cd_llm_env/lib/python3.11/site-packages (from requests->huggingface-hub>=0.4.0->sentence-transformers==2.2.2) (2024.2.2)\n",
            "Requirement already satisfied: mpmath>=0.19 in /Users/colin.davis/.virtualenvs/cd_llm_env/lib/python3.11/site-packages (from sympy->torch>=1.6.0->sentence-transformers==2.2.2) (1.3.0)\n",
            "\n",
            "\u001b[1m[\u001b[0m\u001b[34;49mnotice\u001b[0m\u001b[1;39;49m]\u001b[0m\u001b[39;49m A new release of pip is available: \u001b[0m\u001b[31;49m23.1.2\u001b[0m\u001b[39;49m -> \u001b[0m\u001b[32;49m24.0\u001b[0m\n",
            "\u001b[1m[\u001b[0m\u001b[34;49mnotice\u001b[0m\u001b[1;39;49m]\u001b[0m\u001b[39;49m To update, run: \u001b[0m\u001b[32;49mpip install --upgrade pip\u001b[0m\n",
            "Requirement already satisfied: pydantic==1.10.11 in /Users/colin.davis/.virtualenvs/cd_llm_env/lib/python3.11/site-packages (1.10.11)\n",
            "Requirement already satisfied: typing-extensions>=4.2.0 in /Users/colin.davis/.virtualenvs/cd_llm_env/lib/python3.11/site-packages (from pydantic==1.10.11) (4.9.0)\n",
            "\n",
            "\u001b[1m[\u001b[0m\u001b[34;49mnotice\u001b[0m\u001b[1;39;49m]\u001b[0m\u001b[39;49m A new release of pip is available: \u001b[0m\u001b[31;49m23.1.2\u001b[0m\u001b[39;49m -> \u001b[0m\u001b[32;49m24.0\u001b[0m\n",
            "\u001b[1m[\u001b[0m\u001b[34;49mnotice\u001b[0m\u001b[1;39;49m]\u001b[0m\u001b[39;49m To update, run: \u001b[0m\u001b[32;49mpip install --upgrade pip\u001b[0m\n"
          ]
        }
      ],
      "source": [
        "!pip install -U tiktoken==0.5.2  # Upgrade tiktoken to at least 0.5.2\n",
        "!pip install -U spacy==3.7.0  # Install a compatible version of spacy\n",
        "!pip install -U sentence-transformers==2.2.2  # Re-confirm the desired version\n",
        "!pip install -U pydantic==1.10.11  # Re-confirm the desired version"
      ]
    },
    {
      "cell_type": "markdown",
      "metadata": {
        "id": "ibtguieHP6n1"
      },
      "source": [
        "## Task 2: Set Env Variables and Set Up WandB Callback\n",
        "\n",
        "Let's set our API keys for both OpenAI and WandB!"
      ]
    },
    {
      "cell_type": "code",
      "execution_count": 10,
      "metadata": {
        "colab": {
          "base_uri": "https://localhost:8080/"
        },
        "id": "7IBgMTPTSV_9",
        "outputId": "8d41d7f0-49ff-4bb4-daa1-acd3a99033ec"
      },
      "outputs": [],
      "source": [
        "import os\n",
        "import getpass\n",
        "\n",
        "os.environ[\"OPENAI_API_KEY\"] = getpass.getpass(\"OpenAI API Key: \")"
      ]
    },
    {
      "cell_type": "code",
      "execution_count": 11,
      "metadata": {
        "colab": {
          "base_uri": "https://localhost:8080/"
        },
        "id": "4OHSwkDySV_-",
        "outputId": "78455f0d-783c-4adb-e19a-af6a010cdf8e"
      },
      "outputs": [],
      "source": [
        "os.environ[\"WANDB_API_KEY\"] = getpass.getpass(\"WandB API Key: \")"
      ]
    },
    {
      "cell_type": "markdown",
      "metadata": {
        "id": "Ut8E447rQBjY"
      },
      "source": [
        "We'll also need to set a callback handler for WandB to ensure smooth operation of our traces!"
      ]
    },
    {
      "cell_type": "code",
      "execution_count": 12,
      "metadata": {
        "id": "MoV2JINuSV_-"
      },
      "outputs": [
        {
          "name": "stdout",
          "output_type": "stream",
          "text": [
            "ERROR:wandb.jupyter:Failed to detect the name of this notebook, you can set it manually with the WANDB_NOTEBOOK_NAME environment variable to enable code saving.\n",
            "Failed to detect the name of this notebook, you can set it manually with the WANDB_NOTEBOOK_NAME environment variable to enable code saving.\n"
          ]
        },
        {
          "name": "stderr",
          "output_type": "stream",
          "text": [
            "\u001b[34m\u001b[1mwandb\u001b[0m: Streaming LlamaIndex events to W&B at https://wandb.ai/colinrdavismba/aie1-llama-index-demo/runs/e16rhcux\n",
            "\u001b[34m\u001b[1mwandb\u001b[0m: `WandbCallbackHandler` is currently in beta.\n",
            "\u001b[34m\u001b[1mwandb\u001b[0m: Please report any issues to https://github.com/wandb/wandb/issues with the tag `llamaindex`.\n"
          ]
        }
      ],
      "source": [
        "import llama_index\n",
        "from llama_index.core import set_global_handler\n",
        "\n",
        "set_global_handler(\"wandb\", run_args={\"project\": \"aie1-llama-index-demo\"})\n",
        "wandb_callback = llama_index.core.global_handler"
      ]
    },
    {
      "cell_type": "markdown",
      "metadata": {
        "id": "UQwigweOSV_-"
      },
      "source": [
        "### Task 3: Settings\n",
        "\n",
        "LlamaIndex lets us set global settings which we can use to influence the default behaviour of our components.\n",
        "\n",
        "Let's set our LLM and our Embedding Model!"
      ]
    },
    {
      "cell_type": "code",
      "execution_count": 13,
      "metadata": {
        "id": "6KOy21KPSV_-"
      },
      "outputs": [],
      "source": [
        "from llama_index.llms.openai import OpenAI\n",
        "from llama_index.embeddings.openai import OpenAIEmbedding\n",
        "from llama_index.core import Settings\n",
        "\n",
        "Settings.llm = OpenAI(model=\"gpt-3.5-turbo\")\n",
        "Settings.embed_model = OpenAIEmbedding(model=\"text-embedding-3-small\")"
      ]
    },
    {
      "cell_type": "markdown",
      "metadata": {
        "id": "eiOdw7EQSV_-"
      },
      "source": [
        "## Task 4: Semantic RAG Pipeline with Metadata Filtering\n",
        "\n",
        "Now we can get to work creating our semantic `QueryEngine`!\n",
        "\n",
        "We'll start, as we normally do, by grabbing some data.\n",
        "\n",
        "> NOTE: Remember that a query engine is just a different word for a chain!"
      ]
    },
    {
      "cell_type": "markdown",
      "metadata": {
        "id": "iDEtQQWnSV_-"
      },
      "source": [
        "### Data Collection\n",
        "\n",
        "We're just going to be pulling information straight from Wikipedia using the built in `WikipediaReader`.\n",
        "\n",
        "> NOTE: Setting `auto_suggest=False` ensures we run into fewer auto-correct based errors."
      ]
    },
    {
      "cell_type": "code",
      "execution_count": 14,
      "metadata": {
        "id": "OrzzrnYMSV_-"
      },
      "outputs": [],
      "source": [
        "from llama_index.readers.wikipedia import WikipediaReader\n",
        "\n",
        "movie_list = [\"Dune (2021 film)\", \"Dune: Part Two\"]\n",
        "\n",
        "wiki_docs = WikipediaReader().load_data(pages=movie_list, auto_suggest=False)"
      ]
    },
    {
      "cell_type": "markdown",
      "metadata": {
        "id": "-6FRQ4hfSV_-"
      },
      "source": [
        "### Initializing our VectorStoreIndex with ChromaDB\n",
        "\n",
        "ChromaDB is a locally hostable and open-source vector database solution.\n",
        "\n",
        "It offers powerful features like metadata filtering out of the box, and will suit our needs well today!\n",
        "\n",
        "We'll start by creating our local `EphemeralClient()` (in-memory and not meant for production use-cases) and our collection.\n",
        "\n",
        "Then we'll create our `VectorStore` and `StorageContext` which will allow us to create an empty `VectorStoreIndex` which we will be able to add nodes to later!"
      ]
    },
    {
      "cell_type": "code",
      "execution_count": 15,
      "metadata": {
        "id": "b1ut96aSEVwY"
      },
      "outputs": [
        {
          "name": "stdout",
          "output_type": "stream",
          "text": [
            "INFO:chromadb.telemetry.product.posthog:Anonymized telemetry enabled. See                     https://docs.trychroma.com/telemetry for more information.\n",
            "Anonymized telemetry enabled. See                     https://docs.trychroma.com/telemetry for more information.\n"
          ]
        }
      ],
      "source": [
        "from llama_index.vector_stores.chroma import ChromaVectorStore\n",
        "import chromadb\n",
        "\n",
        "chroma_client = chromadb.EphemeralClient()\n",
        "chroma_collection = chroma_client.create_collection(\"dune-v0\")"
      ]
    },
    {
      "cell_type": "code",
      "execution_count": 16,
      "metadata": {
        "colab": {
          "base_uri": "https://localhost:8080/"
        },
        "id": "lZ5xilm1SV_-",
        "outputId": "3e0c322c-e0a5-4867-ae01-e5bcf77bef90"
      },
      "outputs": [
        {
          "name": "stderr",
          "output_type": "stream",
          "text": [
            "\u001b[34m\u001b[1mwandb\u001b[0m: Logged trace tree to W&B.\n"
          ]
        }
      ],
      "source": [
        "from llama_index.core import VectorStoreIndex\n",
        "from llama_index.core import StorageContext\n",
        "\n",
        "vector_store = ChromaVectorStore(chroma_collection=chroma_collection)\n",
        "storage_context = StorageContext.from_defaults(vector_store=vector_store)\n",
        "index = VectorStoreIndex.from_documents([], storage_context=storage_context)"
      ]
    },
    {
      "cell_type": "markdown",
      "metadata": {
        "id": "6qtzVDelSV_-"
      },
      "source": [
        "### Node Construction\n",
        "\n",
        "Now we will loop through our documents and metadata and construct nodes.\n",
        "\n",
        "We'll make sure to explicitly associate our nodes with their respective movie so we can filter by the movie title in the upcoming cells.\n",
        "\n",
        "> NOTE: You can safely ignore any WARNINGs in the following cell."
      ]
    },
    {
      "cell_type": "code",
      "execution_count": 17,
      "metadata": {
        "colab": {
          "base_uri": "https://localhost:8080/"
        },
        "id": "LP4INgSGSV_-",
        "outputId": "c0680135-0c2e-40b6-978f-97804a39d707"
      },
      "outputs": [
        {
          "name": "stdout",
          "output_type": "stream",
          "text": [
            "INFO:httpx:HTTP Request: POST https://api.openai.com/v1/embeddings \"HTTP/1.1 200 OK\"\n",
            "HTTP Request: POST https://api.openai.com/v1/embeddings \"HTTP/1.1 200 OK\"\n",
            "INFO:httpx:HTTP Request: POST https://api.openai.com/v1/embeddings \"HTTP/1.1 200 OK\"\n",
            "HTTP Request: POST https://api.openai.com/v1/embeddings \"HTTP/1.1 200 OK\"\n",
            "WARNING:chromadb.segment.impl.vector.local_hnsw:Add of existing embedding ID: d29a137b-a07a-427a-aae0-8a5dfb1c238f\n",
            "Add of existing embedding ID: d29a137b-a07a-427a-aae0-8a5dfb1c238f\n",
            "WARNING:chromadb.segment.impl.vector.local_hnsw:Add of existing embedding ID: b87a3c17-3182-41fa-acb0-26ae7e8de6e0\n",
            "Add of existing embedding ID: b87a3c17-3182-41fa-acb0-26ae7e8de6e0\n",
            "WARNING:chromadb.segment.impl.vector.local_hnsw:Add of existing embedding ID: e32f7aa7-2cb1-4fde-9666-ee82688d68c8\n",
            "Add of existing embedding ID: e32f7aa7-2cb1-4fde-9666-ee82688d68c8\n",
            "WARNING:chromadb.segment.impl.vector.local_hnsw:Add of existing embedding ID: dec7244c-50b7-4952-a3c1-555edbf29cb7\n",
            "Add of existing embedding ID: dec7244c-50b7-4952-a3c1-555edbf29cb7\n",
            "WARNING:chromadb.segment.impl.vector.local_hnsw:Add of existing embedding ID: fef58eae-8f7e-47cd-9022-51ef5889bebd\n",
            "Add of existing embedding ID: fef58eae-8f7e-47cd-9022-51ef5889bebd\n",
            "WARNING:chromadb.segment.impl.vector.local_hnsw:Add of existing embedding ID: a3fe56ca-23b9-4258-821e-b4693168c48e\n",
            "Add of existing embedding ID: a3fe56ca-23b9-4258-821e-b4693168c48e\n",
            "WARNING:chromadb.segment.impl.vector.local_hnsw:Add of existing embedding ID: 3d8da418-d4c3-44b1-9639-ffbc92652d51\n",
            "Add of existing embedding ID: 3d8da418-d4c3-44b1-9639-ffbc92652d51\n",
            "WARNING:chromadb.segment.impl.vector.local_hnsw:Add of existing embedding ID: 4262039a-ce5a-415c-a7de-9c843aa362c8\n",
            "Add of existing embedding ID: 4262039a-ce5a-415c-a7de-9c843aa362c8\n",
            "WARNING:chromadb.segment.impl.vector.local_hnsw:Add of existing embedding ID: dd668f99-3ac4-4b3d-9373-e2a2e3cbec62\n",
            "Add of existing embedding ID: dd668f99-3ac4-4b3d-9373-e2a2e3cbec62\n",
            "WARNING:chromadb.segment.impl.vector.local_hnsw:Add of existing embedding ID: 8c239ee0-935e-4839-9655-b77b8907b401\n",
            "Add of existing embedding ID: 8c239ee0-935e-4839-9655-b77b8907b401\n",
            "WARNING:chromadb.segment.impl.vector.local_hnsw:Add of existing embedding ID: 2750bbc3-abf4-4a0d-ac07-d4608e56352d\n",
            "Add of existing embedding ID: 2750bbc3-abf4-4a0d-ac07-d4608e56352d\n",
            "WARNING:chromadb.segment.impl.vector.local_hnsw:Add of existing embedding ID: 4f62c3a3-6d7a-47a4-936d-625b5c393dad\n",
            "Add of existing embedding ID: 4f62c3a3-6d7a-47a4-936d-625b5c393dad\n",
            "WARNING:chromadb.segment.impl.vector.local_hnsw:Add of existing embedding ID: 8ac48ae5-d05c-4206-bd8a-b5742bf3f9bf\n",
            "Add of existing embedding ID: 8ac48ae5-d05c-4206-bd8a-b5742bf3f9bf\n",
            "WARNING:chromadb.segment.impl.vector.local_hnsw:Add of existing embedding ID: 7b5a0364-b92c-4b8c-9ed5-a776592eeabf\n",
            "Add of existing embedding ID: 7b5a0364-b92c-4b8c-9ed5-a776592eeabf\n",
            "WARNING:chromadb.segment.impl.vector.local_hnsw:Add of existing embedding ID: 843a28ad-eefc-454e-9392-240fdb3c3477\n",
            "Add of existing embedding ID: 843a28ad-eefc-454e-9392-240fdb3c3477\n",
            "WARNING:chromadb.segment.impl.vector.local_hnsw:Add of existing embedding ID: 274935be-a13b-4e22-b45b-bdff1c265dab\n",
            "Add of existing embedding ID: 274935be-a13b-4e22-b45b-bdff1c265dab\n",
            "WARNING:chromadb.segment.impl.vector.local_hnsw:Add of existing embedding ID: 748d5f02-45d6-493a-8558-243c87738fdd\n",
            "Add of existing embedding ID: 748d5f02-45d6-493a-8558-243c87738fdd\n",
            "WARNING:chromadb.segment.impl.vector.local_hnsw:Add of existing embedding ID: 1ae7886c-1140-4cff-96b3-4186d6cb1655\n",
            "Add of existing embedding ID: 1ae7886c-1140-4cff-96b3-4186d6cb1655\n",
            "WARNING:chromadb.segment.impl.vector.local_hnsw:Add of existing embedding ID: 85d88fd4-9963-4295-b8d3-514afc2e84e0\n",
            "Add of existing embedding ID: 85d88fd4-9963-4295-b8d3-514afc2e84e0\n",
            "WARNING:chromadb.segment.impl.vector.local_hnsw:Add of existing embedding ID: 364ad94c-9b38-4af3-ba0c-20cd8cb372cb\n",
            "Add of existing embedding ID: 364ad94c-9b38-4af3-ba0c-20cd8cb372cb\n",
            "WARNING:chromadb.segment.impl.vector.local_hnsw:Add of existing embedding ID: 2fbe7b41-9115-44c5-916b-a3d532d2f5a1\n",
            "Add of existing embedding ID: 2fbe7b41-9115-44c5-916b-a3d532d2f5a1\n",
            "WARNING:chromadb.segment.impl.vector.local_hnsw:Add of existing embedding ID: a596d8ad-2d7d-4cef-8107-aca67b00bb6f\n",
            "Add of existing embedding ID: a596d8ad-2d7d-4cef-8107-aca67b00bb6f\n",
            "WARNING:chromadb.segment.impl.metadata.sqlite:Insert of existing embedding ID: d29a137b-a07a-427a-aae0-8a5dfb1c238f\n",
            "Insert of existing embedding ID: d29a137b-a07a-427a-aae0-8a5dfb1c238f\n",
            "WARNING:chromadb.segment.impl.metadata.sqlite:Insert of existing embedding ID: b87a3c17-3182-41fa-acb0-26ae7e8de6e0\n",
            "Insert of existing embedding ID: b87a3c17-3182-41fa-acb0-26ae7e8de6e0\n",
            "WARNING:chromadb.segment.impl.metadata.sqlite:Insert of existing embedding ID: e32f7aa7-2cb1-4fde-9666-ee82688d68c8\n",
            "Insert of existing embedding ID: e32f7aa7-2cb1-4fde-9666-ee82688d68c8\n",
            "WARNING:chromadb.segment.impl.metadata.sqlite:Insert of existing embedding ID: dec7244c-50b7-4952-a3c1-555edbf29cb7\n",
            "Insert of existing embedding ID: dec7244c-50b7-4952-a3c1-555edbf29cb7\n",
            "WARNING:chromadb.segment.impl.metadata.sqlite:Insert of existing embedding ID: fef58eae-8f7e-47cd-9022-51ef5889bebd\n",
            "Insert of existing embedding ID: fef58eae-8f7e-47cd-9022-51ef5889bebd\n",
            "WARNING:chromadb.segment.impl.metadata.sqlite:Insert of existing embedding ID: a3fe56ca-23b9-4258-821e-b4693168c48e\n",
            "Insert of existing embedding ID: a3fe56ca-23b9-4258-821e-b4693168c48e\n",
            "WARNING:chromadb.segment.impl.metadata.sqlite:Insert of existing embedding ID: 3d8da418-d4c3-44b1-9639-ffbc92652d51\n",
            "Insert of existing embedding ID: 3d8da418-d4c3-44b1-9639-ffbc92652d51\n",
            "WARNING:chromadb.segment.impl.metadata.sqlite:Insert of existing embedding ID: 4262039a-ce5a-415c-a7de-9c843aa362c8\n",
            "Insert of existing embedding ID: 4262039a-ce5a-415c-a7de-9c843aa362c8\n",
            "WARNING:chromadb.segment.impl.metadata.sqlite:Insert of existing embedding ID: dd668f99-3ac4-4b3d-9373-e2a2e3cbec62\n",
            "Insert of existing embedding ID: dd668f99-3ac4-4b3d-9373-e2a2e3cbec62\n",
            "WARNING:chromadb.segment.impl.metadata.sqlite:Insert of existing embedding ID: 8c239ee0-935e-4839-9655-b77b8907b401\n",
            "Insert of existing embedding ID: 8c239ee0-935e-4839-9655-b77b8907b401\n",
            "WARNING:chromadb.segment.impl.metadata.sqlite:Insert of existing embedding ID: 2750bbc3-abf4-4a0d-ac07-d4608e56352d\n",
            "Insert of existing embedding ID: 2750bbc3-abf4-4a0d-ac07-d4608e56352d\n",
            "WARNING:chromadb.segment.impl.metadata.sqlite:Insert of existing embedding ID: 4f62c3a3-6d7a-47a4-936d-625b5c393dad\n",
            "Insert of existing embedding ID: 4f62c3a3-6d7a-47a4-936d-625b5c393dad\n",
            "WARNING:chromadb.segment.impl.metadata.sqlite:Insert of existing embedding ID: 8ac48ae5-d05c-4206-bd8a-b5742bf3f9bf\n",
            "Insert of existing embedding ID: 8ac48ae5-d05c-4206-bd8a-b5742bf3f9bf\n",
            "WARNING:chromadb.segment.impl.metadata.sqlite:Insert of existing embedding ID: 7b5a0364-b92c-4b8c-9ed5-a776592eeabf\n",
            "Insert of existing embedding ID: 7b5a0364-b92c-4b8c-9ed5-a776592eeabf\n",
            "WARNING:chromadb.segment.impl.metadata.sqlite:Insert of existing embedding ID: 843a28ad-eefc-454e-9392-240fdb3c3477\n",
            "Insert of existing embedding ID: 843a28ad-eefc-454e-9392-240fdb3c3477\n",
            "WARNING:chromadb.segment.impl.metadata.sqlite:Insert of existing embedding ID: 274935be-a13b-4e22-b45b-bdff1c265dab\n",
            "Insert of existing embedding ID: 274935be-a13b-4e22-b45b-bdff1c265dab\n",
            "WARNING:chromadb.segment.impl.metadata.sqlite:Insert of existing embedding ID: 748d5f02-45d6-493a-8558-243c87738fdd\n",
            "Insert of existing embedding ID: 748d5f02-45d6-493a-8558-243c87738fdd\n",
            "WARNING:chromadb.segment.impl.metadata.sqlite:Insert of existing embedding ID: 1ae7886c-1140-4cff-96b3-4186d6cb1655\n",
            "Insert of existing embedding ID: 1ae7886c-1140-4cff-96b3-4186d6cb1655\n",
            "WARNING:chromadb.segment.impl.metadata.sqlite:Insert of existing embedding ID: 85d88fd4-9963-4295-b8d3-514afc2e84e0\n",
            "Insert of existing embedding ID: 85d88fd4-9963-4295-b8d3-514afc2e84e0\n",
            "WARNING:chromadb.segment.impl.metadata.sqlite:Insert of existing embedding ID: 364ad94c-9b38-4af3-ba0c-20cd8cb372cb\n",
            "Insert of existing embedding ID: 364ad94c-9b38-4af3-ba0c-20cd8cb372cb\n",
            "WARNING:chromadb.segment.impl.metadata.sqlite:Insert of existing embedding ID: 2fbe7b41-9115-44c5-916b-a3d532d2f5a1\n",
            "Insert of existing embedding ID: 2fbe7b41-9115-44c5-916b-a3d532d2f5a1\n",
            "WARNING:chromadb.segment.impl.metadata.sqlite:Insert of existing embedding ID: a596d8ad-2d7d-4cef-8107-aca67b00bb6f\n",
            "Insert of existing embedding ID: a596d8ad-2d7d-4cef-8107-aca67b00bb6f\n"
          ]
        }
      ],
      "source": [
        "from llama_index.core import SimpleDirectoryReader\n",
        "from llama_index.core.ingestion import IngestionPipeline\n",
        "from llama_index.core.node_parser import TokenTextSplitter\n",
        "from llama_index.core.extractors import TitleExtractor\n",
        "\n",
        "pipeline = IngestionPipeline(transformations=[TokenTextSplitter()])\n",
        "\n",
        "for movie, wiki_doc in zip(movie_list, wiki_docs):\n",
        "    nodes = pipeline.run(documents=wiki_docs)\n",
        "    for node in nodes:\n",
        "        node.metadata = {\"title\" : movie}\n",
        "    index.insert_nodes(nodes)"
      ]
    },
    {
      "cell_type": "markdown",
      "metadata": {
        "id": "biVzC-I4UAmB"
      },
      "source": [
        "####❓ Question #1:\n",
        "\n",
        "What `metadata` fields will the nodes in our index have?\n",
        "\n",
        "Please write the code to find this information."
      ]
    },
    {
      "cell_type": "code",
      "execution_count": 18,
      "metadata": {},
      "outputs": [
        {
          "name": "stdout",
          "output_type": "stream",
          "text": [
            "dict_keys(['title'])\n"
          ]
        }
      ],
      "source": [
        "### YOUR CODE HERE\n",
        "# ## super simple\n",
        "print(nodes[0].metadata.keys())"
      ]
    },
    {
      "cell_type": "code",
      "execution_count": 19,
      "metadata": {
        "id": "mt1lhxEnUKxO"
      },
      "outputs": [
        {
          "name": "stdout",
          "output_type": "stream",
          "text": [
            "Metadata fields in the first node: ['title']\n"
          ]
        }
      ],
      "source": [
        "### YOUR CODE HERE\n",
        "## checking first node only\n",
        "first_node = nodes[0] \n",
        "\n",
        "# make a little more friendly to print\n",
        "metadata_fields = first_node.metadata.keys()\n",
        "print(\"Metadata fields in the first node:\", list(metadata_fields))\n",
        "\n"
      ]
    },
    {
      "cell_type": "code",
      "execution_count": 20,
      "metadata": {},
      "outputs": [
        {
          "name": "stdout",
          "output_type": "stream",
          "text": [
            "All unique metadata fields across nodes: ['title']\n"
          ]
        }
      ],
      "source": [
        "#I think the only metadata it should have is title but let's check all nodes to confirm\n",
        "all_metadata_fields = set()\n",
        "for node in nodes:\n",
        "    all_metadata_fields.update(node.metadata.keys())\n",
        "\n",
        "print(\"All unique metadata fields across nodes:\", list(all_metadata_fields))"
      ]
    },
    {
      "cell_type": "markdown",
      "metadata": {
        "id": "Sfbon1BwSLFS"
      },
      "source": [
        "### Persisting and Loading Stored Index with Weights and Biases\n",
        "\n",
        "Now we can utilize a powerful feature of Weights and Biases - index and artifact versioning!\n",
        "\n",
        "We can persist our index to WandB to be used and loaded later!"
      ]
    },
    {
      "cell_type": "code",
      "execution_count": 21,
      "metadata": {
        "colab": {
          "base_uri": "https://localhost:8080/"
        },
        "id": "PHJd00J3G48_",
        "outputId": "daead28f-68f4-4f98-b417-3552ad986839"
      },
      "outputs": [
        {
          "name": "stderr",
          "output_type": "stream",
          "text": [
            "\u001b[34m\u001b[1mwandb\u001b[0m: Adding directory to artifact (/Users/colin.davis/Documents/aimrepo_new/homework_2_1/wandb/run-20240311_190210-e16rhcux/files/storage)... Done. 0.0s\n"
          ]
        }
      ],
      "source": [
        "wandb_callback.persist_index(index, index_name=\"dune-index-chromadb\")"
      ]
    },
    {
      "cell_type": "markdown",
      "metadata": {
        "id": "jvpHLt8UShKa"
      },
      "source": [
        "Now we can load our index from WandB, which is a truly powerful tool!"
      ]
    },
    {
      "cell_type": "code",
      "execution_count": 22,
      "metadata": {
        "colab": {
          "base_uri": "https://localhost:8080/"
        },
        "id": "FDZLmqTDHDrZ",
        "outputId": "ade0c7d2-841e-4a50-e296-0f71b45dc1b2"
      },
      "outputs": [
        {
          "name": "stderr",
          "output_type": "stream",
          "text": [
            "\u001b[34m\u001b[1mwandb\u001b[0m:   4 of 4 files downloaded.  \n"
          ]
        }
      ],
      "source": [
        "from llama_index.core import load_index_from_storage\n",
        "\n",
        "storage_context = wandb_callback.load_storage_context(\n",
        "    artifact_url=\"colinrdavismba/aie1-llama-index-demo/dune-index-chromadb:v0\"\n",
        ")"
      ]
    },
    {
      "cell_type": "markdown",
      "metadata": {
        "id": "G0pwSiOxUYCE"
      },
      "source": [
        "####❓ Question #2:\n",
        "\n",
        "Provide a screenshot of your index version history as shown in WandB."
      ]
    },
    {
      "attachments": {
        "image.png": {
          "image/png": "[encoded data removed]"
        }
      },
      "cell_type": "markdown",
      "metadata": {},
      "source": [
        "![image.png](attachment:image.png)"
      ]
    },
    {
      "cell_type": "markdown",
      "metadata": {
        "id": "YUa5sHMsSV__"
      },
      "source": [
        "### Auto Retriever Functional Tool\n",
        "\n",
        "This tool will leverage OpenAI's functional endpoint to select the correct metadata filter and query the filtered index - only looking at nodes with the desired metadata.\n",
        "\n",
        "A simplified diagram: ![image](https://i.imgur.com/AICDPav.png)"
      ]
    },
    {
      "cell_type": "markdown",
      "metadata": {
        "id": "Z2HQHY3pSV__"
      },
      "source": [
        "First, we need to create our `VectoreStoreInfo` object which will hold all the relevant metadata we need for each component (in this case title metadata).\n",
        "\n",
        "Notice that you need to include it in a text list."
      ]
    },
    {
      "cell_type": "code",
      "execution_count": 23,
      "metadata": {
        "id": "KoAYxbdsSV__"
      },
      "outputs": [],
      "source": [
        "from llama_index.core.tools import FunctionTool\n",
        "from llama_index.core.vector_stores.types import (\n",
        "    VectorStoreInfo,\n",
        "    MetadataInfo,\n",
        "    ExactMatchFilter,\n",
        "    MetadataFilters,\n",
        ")\n",
        "from llama_index.core.retrievers import VectorIndexRetriever\n",
        "from llama_index.core.query_engine import RetrieverQueryEngine\n",
        "\n",
        "from typing import List, Tuple, Any\n",
        "from pydantic import BaseModel, Field\n",
        "\n",
        "top_k = 3\n",
        "\n",
        "vector_store_info = VectorStoreInfo(\n",
        "    content_info=\"semantic information about movies\",\n",
        "    metadata_info=[MetadataInfo(\n",
        "        name=\"title\",\n",
        "        type=\"str\",\n",
        "        description=\"title of the movie, one of ['Dune (2021 film)', 'Dune: Part 2']\",\n",
        "    )]\n",
        ")"
      ]
    },
    {
      "cell_type": "markdown",
      "metadata": {
        "id": "NEjK7jcsSV__"
      },
      "source": [
        "Now we'll create our base PyDantic object that we can use to ensure compatability with our application layer. This verifies that the response from the OpenAI endpoint conforms to this schema."
      ]
    },
    {
      "cell_type": "code",
      "execution_count": 24,
      "metadata": {
        "id": "yixkwF8zSV__"
      },
      "outputs": [],
      "source": [
        "class AutoRetrieveModel(BaseModel):\n",
        "    query: str = Field(..., description=\"natural language query string\")\n",
        "    filter_key_list: List[str] = Field(\n",
        "        ..., description=\"List of metadata filter field names\"\n",
        "    )\n",
        "    filter_value_list: List[str] = Field(\n",
        "        ...,\n",
        "        description=(\n",
        "            \"List of metadata filter field values (corresponding to names specified in filter_key_list)\"\n",
        "        )\n",
        "    )"
      ]
    },
    {
      "cell_type": "markdown",
      "metadata": {
        "id": "Ep6ORS3FSV__"
      },
      "source": [
        "Now we can build our function that we will use to query the functional endpoint."
      ]
    },
    {
      "cell_type": "code",
      "execution_count": 25,
      "metadata": {
        "id": "y8sPThxlSV__"
      },
      "outputs": [],
      "source": [
        "def auto_retrieve_fn(\n",
        "    query: str, filter_key_list: List[str], filter_value_list: List[str]\n",
        "):\n",
        "    \"\"\"Auto retrieval function.\n",
        "\n",
        "    Performs auto-retrieval from a vector database, and then applies a set of filters.\n",
        "\n",
        "    \"\"\"\n",
        "    query = query or \"Query\"\n",
        "\n",
        "    exact_match_filters = [\n",
        "        ExactMatchFilter(key=k, value=v)\n",
        "        for k, v in zip(filter_key_list, filter_value_list)\n",
        "    ]\n",
        "    retriever = VectorIndexRetriever(\n",
        "        index, filters=MetadataFilters(filters=exact_match_filters), top_k=top_k\n",
        "    )\n",
        "    query_engine = RetrieverQueryEngine.from_args(retriever)\n",
        "\n",
        "    response = query_engine.query(query)\n",
        "    return str(response)"
      ]
    },
    {
      "cell_type": "markdown",
      "metadata": {
        "id": "Yt4BV6oISV__"
      },
      "source": [
        "Now we need to wrap our system in a tool in order to integrate it into the larger application.\n",
        "\n",
        "Source Code Here:\n",
        "- [`FunctionTool`](https://github.com/jerryjliu/llama_index/blob/d24767b0812ac56104497d8f59095eccbe9f2b08/llama_index/tools/function_tool.py#L21)"
      ]
    },
    {
      "cell_type": "code",
      "execution_count": 26,
      "metadata": {
        "id": "U4lS1NqeSV__"
      },
      "outputs": [],
      "source": [
        "description = f\"\"\"\\\n",
        "Use this tool to look up semantic information about films.\n",
        "The vector database schema is given below:\n",
        "{vector_store_info.json()}\n",
        "\"\"\"\n",
        "\n",
        "auto_retrieve_tool = FunctionTool.from_defaults(\n",
        "    fn=auto_retrieve_fn,\n",
        "    name=\"semantic-film-info\",\n",
        "    description=description,\n",
        "    fn_schema=AutoRetrieveModel\n",
        ")"
      ]
    },
    {
      "cell_type": "markdown",
      "metadata": {
        "id": "9YkXmlexUnP_"
      },
      "source": [
        "####❓ Question #3:\n",
        "\n",
        "Is the text in the description of our `FunctionTool` important or not? Please explain your answer."
      ]
    },
    {
      "cell_type": "code",
      "execution_count": 27,
      "metadata": {},
      "outputs": [
        {
          "data": {
            "text/plain": [
              "'\\nYes it is very much important. The agentic workflow we are building, especially as we increase \\ncomplexity, will depend on the descrition of a given tool to help the LLM reason on which \\nsub task (or tool) to execute. In this case, we defined the function as:\\n\\nUse this tool to look up semantic information about films.\\nThe vector database schema is given below:\\n{vector_store_info.json()}. \\n\\nThe LLM needs this description to comprehend, categorize, and effectively utilize \\ntools within complex workflows like we are building. This will help an LLM to know \\nwhen to utilize this tool or to not.\\n\\n'"
            ]
          },
          "execution_count": 27,
          "metadata": {},
          "output_type": "execute_result"
        }
      ],
      "source": [
        "## Answer:\n",
        "\"\"\"\n",
        "Yes it is very much important. The agentic workflow we are building, especially as we increase \n",
        "complexity, will depend on the description of a given tool to help the LLM reason on which \n",
        "sub task (or tool) to execute. In this case, we defined the function as:\n",
        "\n",
        "Use this tool to look up semantic information about films.\n",
        "The vector database schema is given below:\n",
        "{vector_store_info.json()}. \n",
        "\n",
        "The LLM needs this description to comprehend, categorize, and effectively utilize \n",
        "tools within complex workflows like we are building. This will help an LLM to know \n",
        "when to utilize this tool or to not.\n",
        "\n",
        "\"\"\""
      ]
    },
    {
      "cell_type": "markdown",
      "metadata": {
        "id": "ZblimmXVSV__"
      },
      "source": [
        "All that's left to do is attach the tool to an OpenAIAgent and let it rip!\n",
        "\n",
        "Source Code Here:\n",
        "- [`OpenAIAgent`](https://github.com/jerryjliu/llama_index/blob/d24767b0812ac56104497d8f59095eccbe9f2b08/llama_index/agent/openai_agent.py#L361)"
      ]
    },
    {
      "cell_type": "code",
      "execution_count": 28,
      "metadata": {
        "id": "W2hafCTxSV__"
      },
      "outputs": [],
      "source": [
        "from llama_index.agent.openai import OpenAIAgent\n",
        "\n",
        "agent = OpenAIAgent.from_tools(\n",
        "    tools=[auto_retrieve_tool],\n",
        "    verbose=True,\n",
        ")"
      ]
    },
    {
      "cell_type": "code",
      "execution_count": 29,
      "metadata": {
        "colab": {
          "base_uri": "https://localhost:8080/"
        },
        "id": "DBJWDBK5SV__",
        "outputId": "89542691-c922-44cc-9663-90a372df4837"
      },
      "outputs": [
        {
          "name": "stdout",
          "output_type": "stream",
          "text": [
            "Added user message to memory: Who starred in the 2021 film?\n",
            "INFO:httpx:HTTP Request: POST https://api.openai.com/v1/chat/completions \"HTTP/1.1 200 OK\"\n",
            "HTTP Request: POST https://api.openai.com/v1/chat/completions \"HTTP/1.1 200 OK\"\n",
            "=== Calling Function ===\n",
            "Calling function: semantic-film-info with args: {\"query\":\"cast\",\"filter_key_list\":[\"title\"],\"filter_value_list\":[\"Dune (2021 film)\"]}\n",
            "INFO:httpx:HTTP Request: POST https://api.openai.com/v1/embeddings \"HTTP/1.1 200 OK\"\n",
            "HTTP Request: POST https://api.openai.com/v1/embeddings \"HTTP/1.1 200 OK\"\n",
            "INFO:httpx:HTTP Request: POST https://api.openai.com/v1/chat/completions \"HTTP/1.1 200 OK\"\n",
            "HTTP Request: POST https://api.openai.com/v1/chat/completions \"HTTP/1.1 200 OK\"\n",
            "Got output: The casting process for the film \"Dune\" involved a variety of actors being considered and selected for different roles. Some actors, like Rebecca Ferguson and Dave Bautista, were initially hesitant but eventually accepted their roles after discussions with the director and reading the source material. Others, such as Oscar Isaac and Zendaya, expressed interest in being part of the project and were cast in roles that suited them physically. The casting director compiled audition tapes for secondary roles, and actors like Javier Bardem, Josh Brolin, Jason Momoa, and David Dastmalchian were offered roles directly by the director. Additionally, the decision to \"gender swap\" the character Liet-Kynes by casting Sharon Duncan-Brewster was suggested by a team member and accepted by the director to capture the essence of the character from the book.\n",
            "========================\n",
            "\n",
            "INFO:httpx:HTTP Request: POST https://api.openai.com/v1/chat/completions \"HTTP/1.1 200 OK\"\n",
            "HTTP Request: POST https://api.openai.com/v1/chat/completions \"HTTP/1.1 200 OK\"\n"
          ]
        },
        {
          "name": "stderr",
          "output_type": "stream",
          "text": [
            "\u001b[34m\u001b[1mwandb\u001b[0m: Logged trace tree to W&B.\n"
          ]
        },
        {
          "name": "stdout",
          "output_type": "stream",
          "text": [
            "The 2021 film \"Dune\" starred a talented cast including:\n",
            "\n",
            "1. Timothée Chalamet\n",
            "2. Rebecca Ferguson\n",
            "3. Oscar Isaac\n",
            "4. Josh Brolin\n",
            "5. Stellan Skarsgård\n",
            "6. Dave Bautista\n",
            "7. Stephen McKinley Henderson\n",
            "8. Zendaya\n",
            "9. Chang Chen\n",
            "10. Sharon Duncan-Brewster\n",
            "11. Charlotte Rampling\n",
            "12. Jason Momoa\n",
            "13. Javier Bardem\n",
            "\n",
            "These actors played key roles in the film.\n"
          ]
        }
      ],
      "source": [
        "response = agent.chat(\"Who starred in the 2021 film?\")\n",
        "print(str(response))"
      ]
    },
    {
      "cell_type": "markdown",
      "metadata": {
        "id": "kbhAT68RSvnT"
      },
      "source": [
        "# 🤝 Breakout Room #2"
      ]
    },
    {
      "cell_type": "markdown",
      "metadata": {
        "id": "yJcJL7VXSV__"
      },
      "source": [
        "## Task 1: Quantitative RAG Pipeline with NL2SQL Tooling\n",
        "\n",
        "We'll walk through the steps of creating a natural language to SQL system in the following section.\n",
        "\n",
        "> NOTICE: This does not have parsing on the inputs or intermediary calls to ensure that users are using safe SQL queries. Use this with caution in a production environment without adding specific guardrails from either side of the application."
      ]
    },
    {
      "cell_type": "markdown",
      "metadata": {
        "id": "SsVcM0-4SV__"
      },
      "source": [
        "The next few steps should be largely straightforward, we'll want to:\n",
        "\n",
        "1. Read in our `.csv` files into `pd.DataFrame` objects\n",
        "2. Create an in-memory `sqlite` powered `sqlalchemy` engine\n",
        "3. Cast our `pd.DataFrame` objects to the SQL engine\n",
        "4. Create an `SQLDatabase` object through LlamaIndex\n",
        "5. Use that to create a `QueryEngineTool` that we can interact with through the `NLSQLTableQueryEngine`!\n",
        "\n",
        "If you get stuck, please consult the documentation."
      ]
    },
    {
      "cell_type": "code",
      "execution_count": 30,
      "metadata": {
        "colab": {
          "base_uri": "https://localhost:8080/"
        },
        "id": "WwWOygTqlNBh",
        "outputId": "86b0a67f-3fc0-45ae-8afe-889d85903ef0"
      },
      "outputs": [
        {
          "name": "stdout",
          "output_type": "stream",
          "text": [
            "--2024-03-11 19:03:08--  https://raw.githubusercontent.com/AI-Maker-Space/DataRepository/main/dune1.csv\n",
            "Resolving raw.githubusercontent.com (raw.githubusercontent.com)... 185.199.108.133, 185.199.109.133, 185.199.110.133, ...\n",
            "Connecting to raw.githubusercontent.com (raw.githubusercontent.com)|185.199.108.133|:443... connected.\n",
            "HTTP request sent, awaiting response... 200 OK\n",
            "Length: 133391 (130K) [text/plain]\n",
            "Saving to: ‘dune1.csv.1’\n",
            "\n",
            "dune1.csv.1         100%[===================>] 130.26K  --.-KB/s    in 0.05s   \n",
            "\n",
            "2024-03-11 19:03:09 (2.60 MB/s) - ‘dune1.csv.1’ saved [133391/133391]\n",
            "\n"
          ]
        }
      ],
      "source": [
        "!wget https://raw.githubusercontent.com/AI-Maker-Space/DataRepository/main/dune1.csv"
      ]
    },
    {
      "cell_type": "code",
      "execution_count": 31,
      "metadata": {
        "colab": {
          "base_uri": "https://localhost:8080/"
        },
        "id": "TD_9LPL9lTlG",
        "outputId": "b99f4c30-ae9b-4323-a102-9d4f39c36f2c"
      },
      "outputs": [
        {
          "name": "stdout",
          "output_type": "stream",
          "text": [
            "--2024-03-11 19:03:09--  https://raw.githubusercontent.com/AI-Maker-Space/DataRepository/main/dune2.csv\n",
            "Resolving raw.githubusercontent.com (raw.githubusercontent.com)... 185.199.108.133, 185.199.109.133, 185.199.110.133, ...\n",
            "Connecting to raw.githubusercontent.com (raw.githubusercontent.com)|185.199.108.133|:443... connected.\n",
            "HTTP request sent, awaiting response... 200 OK\n",
            "Length: 111843 (109K) [text/plain]\n",
            "Saving to: ‘dune2.csv.1’\n",
            "\n",
            "dune2.csv.1         100%[===================>] 109.22K  --.-KB/s    in 0.04s   \n",
            "\n",
            "2024-03-11 19:03:09 (2.86 MB/s) - ‘dune2.csv.1’ saved [111843/111843]\n",
            "\n"
          ]
        }
      ],
      "source": [
        "!wget https://raw.githubusercontent.com/AI-Maker-Space/DataRepository/main/dune2.csv"
      ]
    },
    {
      "cell_type": "markdown",
      "metadata": {
        "id": "8PUg-ZuTSWAC"
      },
      "source": [
        "#### Read `.csv` Into Pandas"
      ]
    },
    {
      "cell_type": "code",
      "execution_count": 32,
      "metadata": {
        "id": "52Hd8PM4SWAC"
      },
      "outputs": [],
      "source": [
        "import pandas as pd\n",
        "\n",
        "dune1_df = pd.read_csv(\"./dune1.csv\")\n",
        "dune2_df = pd.read_csv(\"./dune2.csv\")"
      ]
    },
    {
      "cell_type": "markdown",
      "metadata": {
        "id": "fPTNyqmpSWAC"
      },
      "source": [
        "#### Create SQLAlchemy engine with SQLite"
      ]
    },
    {
      "cell_type": "code",
      "execution_count": 33,
      "metadata": {
        "id": "4lfuPKYBSWAC"
      },
      "outputs": [],
      "source": [
        "from sqlalchemy import create_engine\n",
        "\n",
        "engine = create_engine(\"sqlite+pysqlite:///:memory:\")"
      ]
    },
    {
      "cell_type": "markdown",
      "metadata": {
        "id": "iJiYiSuHSWAC"
      },
      "source": [
        "#### Convert `pd.DataFrame` to SQL tables"
      ]
    },
    {
      "cell_type": "code",
      "execution_count": 34,
      "metadata": {
        "colab": {
          "base_uri": "https://localhost:8080/"
        },
        "id": "W-96asUHSWAC",
        "outputId": "237d5720-fb5c-42b0-b5c8-a9a9023eeb80"
      },
      "outputs": [
        {
          "data": {
            "text/plain": [
              "274"
            ]
          },
          "execution_count": 34,
          "metadata": {},
          "output_type": "execute_result"
        }
      ],
      "source": [
        "dune1_df.to_sql(\n",
        "    \"Dune (2021 film)\",\n",
        "    engine\n",
        ")"
      ]
    },
    {
      "cell_type": "code",
      "execution_count": 35,
      "metadata": {
        "colab": {
          "base_uri": "https://localhost:8080/"
        },
        "id": "ZwOi1RE1SWAC",
        "outputId": "86bd0057-3086-4af5-db71-d8d7e1e64be1"
      },
      "outputs": [
        {
          "data": {
            "text/plain": [
              "175"
            ]
          },
          "execution_count": 35,
          "metadata": {},
          "output_type": "execute_result"
        }
      ],
      "source": [
        "dune2_df.to_sql(\n",
        "    \"Dune: Part 2\",\n",
        "    engine\n",
        ")"
      ]
    },
    {
      "cell_type": "markdown",
      "metadata": {
        "id": "pibA9qT7SWAC"
      },
      "source": [
        "#### Construct a `SQLDatabase` index\n",
        "\n",
        "Source Code Here:\n",
        "- [`SQLDatabase`](https://github.com/jerryjliu/llama_index/blob/d24767b0812ac56104497d8f59095eccbe9f2b08/llama_index/langchain_helpers/sql_wrapper.py#L9)"
      ]
    },
    {
      "cell_type": "code",
      "execution_count": 36,
      "metadata": {
        "id": "yeDYpR1LSWAD"
      },
      "outputs": [],
      "source": [
        "from llama_index.core import SQLDatabase\n",
        "\n",
        "sql_database = SQLDatabase(\n",
        "    engine=engine,\n",
        "    include_tables=[\"Dune (2021 film)\", \"Dune: Part 2\"]\n",
        ")"
      ]
    },
    {
      "cell_type": "markdown",
      "metadata": {
        "id": "-7VfZBenSWAD"
      },
      "source": [
        "#### Create the NLSQLTableQueryEngine interface for all added SQL tables\n",
        "\n",
        "Source Code Here:\n",
        "- [`NLSQLTableQueryEngine`](https://github.com/jerryjliu/llama_index/blob/d24767b0812ac56104497d8f59095eccbe9f2b08/llama_index/indices/struct_store/sql_query.py#L75C1-L75C1)"
      ]
    },
    {
      "cell_type": "code",
      "execution_count": 37,
      "metadata": {
        "id": "zQWSdMtrSWAD"
      },
      "outputs": [],
      "source": [
        "from llama_index.core.indices.struct_store.sql_query import NLSQLTableQueryEngine\n",
        "\n",
        "sql_query_engine = NLSQLTableQueryEngine(\n",
        "    sql_database=sql_database,\n",
        "    tables=[\"Dune (2021 film)\", \"Dune: Part 2\"],\n",
        ")"
      ]
    },
    {
      "cell_type": "markdown",
      "metadata": {
        "id": "yu8WfwuTSWAD"
      },
      "source": [
        "#### Wrap It All Up in a `QueryEngineTool`\n",
        "\n",
        "You'll want to ensure you have a descriptive...description.\n",
        "\n",
        "An example is provided here:\n",
        "\n",
        "```\n",
        "Useful for translating a natural language query into a SQL query over a table containing:\n",
        "John Wick 1, containing information related to reviews of the first John Wick movie, called John Wick\n",
        "John Wick 2, containing information related to reviews of the second John Wick movie, called John Wick: Chapter 2\n",
        "John Wick 3, containing information related to reviews of the third John Wick movie, called John Wick: Chatper 3 - Parabellum\n",
        "John Wick 4, containing information related to reviews of the fourth John Wick movie, called John Wick: Chatper 4\n",
        "```\n",
        "\n",
        "Sorce Code Here:\n",
        "\n",
        "- [`QueryEngineTool`](https://github.com/jerryjliu/llama_index/blob/d24767b0812ac56104497d8f59095eccbe9f2b08/llama_index/tools/query_engine.py#L13)"
      ]
    },
    {
      "cell_type": "markdown",
      "metadata": {
        "id": "yDB2m2dnU54L"
      },
      "source": [
        "####🏗️ Activity #1:\n",
        "\n",
        "Please write a Natural Language Description for the tables that we are using today."
      ]
    },
    {
      "cell_type": "code",
      "execution_count": 38,
      "metadata": {
        "id": "4n567cXVVCtX"
      },
      "outputs": [],
      "source": [
        "## need to describe both of the movies we have\n",
        "\n",
        "## Dune (2021 film), The first Dune movie released in 2021, called Dune (2021 film)\n",
        "## Dune: Part 2, contains rating reviews on the second Dune movie, called Dune: Part 2\n",
        "\n",
        "DESCRIPTION = \"\"\"\n",
        "Useful for translating a natural language query into a SQL query over a table containing:\n",
        "Dune (2021 film), contains rating reviews on the first Dune movie, called Dune (2021 film)\n",
        "## Dune: Part 2, contains rating reviews on the second Dune movie, called Dune: Part 2\n",
        "\"\"\"\n",
        "\n"
      ]
    },
    {
      "cell_type": "code",
      "execution_count": 39,
      "metadata": {
        "id": "y-mmcBbLSWAD"
      },
      "outputs": [],
      "source": [
        "from llama_index.core.tools.query_engine import QueryEngineTool\n",
        "\n",
        "sql_tool = QueryEngineTool.from_defaults(\n",
        "    query_engine=sql_query_engine,\n",
        "    name=\"sql-query\",\n",
        "    description=DESCRIPTION,\n",
        ")"
      ]
    },
    {
      "cell_type": "code",
      "execution_count": 41,
      "metadata": {
        "id": "feOrlq4XSWAD"
      },
      "outputs": [],
      "source": [
        "agent = OpenAIAgent.from_tools(\n",
        "    tools=[sql_tool],\n",
        "    verbose=True\n",
        ")"
      ]
    },
    {
      "cell_type": "code",
      "execution_count": 42,
      "metadata": {
        "colab": {
          "base_uri": "https://localhost:8080/",
          "height": 138
        },
        "id": "iT4G6stBSWAD",
        "outputId": "fc90e9c7-2484-4a6b-c274-cd9407b4fa6b"
      },
      "outputs": [
        {
          "name": "stdout",
          "output_type": "stream",
          "text": [
            "Added user message to memory: What is the average rating of the 2nd Dune movie?\n",
            "INFO:httpx:HTTP Request: POST https://api.openai.com/v1/chat/completions \"HTTP/1.1 200 OK\"\n",
            "HTTP Request: POST https://api.openai.com/v1/chat/completions \"HTTP/1.1 200 OK\"\n",
            "=== Calling Function ===\n",
            "Calling function: sql-query with args: {\"input\":\"SELECT AVG(rating) FROM Dune_Part_2\"}\n",
            "INFO:llama_index.core.indices.struct_store.sql_retriever:> Table desc str: Table 'Dune (2021 film)' has columns: index (BIGINT), Unnamed: 0 (BIGINT), Review_Date (TEXT), Author (TEXT), Rating (FLOAT), Review_Title (TEXT), Review (TEXT), Review_Url (TEXT), and foreign keys: .\n",
            "\n",
            "Table 'Dune: Part 2' has columns: index (BIGINT), Unnamed: 0 (BIGINT), Review_Date (TEXT), Author (TEXT), Rating (FLOAT), Review_Title (TEXT), Review (TEXT), Review_Url (TEXT), and foreign keys: .\n",
            "> Table desc str: Table 'Dune (2021 film)' has columns: index (BIGINT), Unnamed: 0 (BIGINT), Review_Date (TEXT), Author (TEXT), Rating (FLOAT), Review_Title (TEXT), Review (TEXT), Review_Url (TEXT), and foreign keys: .\n",
            "\n",
            "Table 'Dune: Part 2' has columns: index (BIGINT), Unnamed: 0 (BIGINT), Review_Date (TEXT), Author (TEXT), Rating (FLOAT), Review_Title (TEXT), Review (TEXT), Review_Url (TEXT), and foreign keys: .\n",
            "INFO:httpx:HTTP Request: POST https://api.openai.com/v1/chat/completions \"HTTP/1.1 200 OK\"\n",
            "HTTP Request: POST https://api.openai.com/v1/chat/completions \"HTTP/1.1 200 OK\"\n",
            "INFO:httpx:HTTP Request: POST https://api.openai.com/v1/chat/completions \"HTTP/1.1 200 OK\"\n",
            "HTTP Request: POST https://api.openai.com/v1/chat/completions \"HTTP/1.1 200 OK\"\n",
            "Got output: The average rating for \"Dune: Part 2\" is approximately 8.71.\n",
            "========================\n",
            "\n",
            "INFO:httpx:HTTP Request: POST https://api.openai.com/v1/chat/completions \"HTTP/1.1 200 OK\"\n",
            "HTTP Request: POST https://api.openai.com/v1/chat/completions \"HTTP/1.1 200 OK\"\n"
          ]
        },
        {
          "name": "stderr",
          "output_type": "stream",
          "text": [
            "\u001b[34m\u001b[1mwandb\u001b[0m: Logged trace tree to W&B.\n"
          ]
        }
      ],
      "source": [
        "response = agent.chat(\"What is the average rating of the 2nd Dune movie?\")"
      ]
    },
    {
      "cell_type": "code",
      "execution_count": 43,
      "metadata": {
        "colab": {
          "base_uri": "https://localhost:8080/"
        },
        "id": "NhsoxOpkSWAD",
        "outputId": "804386f4-b3d1-4c22-dd72-1fd047a6a5d0"
      },
      "outputs": [
        {
          "name": "stdout",
          "output_type": "stream",
          "text": [
            "The average rating for the 2nd Dune movie, \"Dune: Part 2,\" is approximately 8.71.\n"
          ]
        }
      ],
      "source": [
        "print(str(response))"
      ]
    },
    {
      "cell_type": "markdown",
      "metadata": {
        "id": "-2LOixbcSWAD"
      },
      "source": [
        "### Task 2: Combined RAG Pipeline\n",
        "\n",
        "Now, we can simply add our tools into the `OpenAIAgent`, and off we go!"
      ]
    },
    {
      "cell_type": "code",
      "execution_count": 44,
      "metadata": {
        "id": "uxFHM2l2SWAD"
      },
      "outputs": [],
      "source": [
        "dune_agent = OpenAIAgent.from_tools(\n",
        "    tools=[auto_retrieve_tool, sql_tool],\n",
        "    verbose=True\n",
        ")"
      ]
    },
    {
      "cell_type": "code",
      "execution_count": 45,
      "metadata": {
        "colab": {
          "base_uri": "https://localhost:8080/"
        },
        "id": "mYVHuBf9SWAD",
        "outputId": "e3f77503-302e-491e-9d1d-e2e7d4d9f6ff"
      },
      "outputs": [
        {
          "name": "stdout",
          "output_type": "stream",
          "text": [
            "Added user message to memory: What is the lowest rating of the 1st film?\n",
            "INFO:httpx:HTTP Request: POST https://api.openai.com/v1/chat/completions \"HTTP/1.1 200 OK\"\n",
            "HTTP Request: POST https://api.openai.com/v1/chat/completions \"HTTP/1.1 200 OK\"\n",
            "=== Calling Function ===\n",
            "Calling function: semantic-film-info with args: {\"query\":\"lowest rating of the 1st film\",\"filter_key_list\":[\"title\"],\"filter_value_list\":[\"Dune (2021 film)\"]}\n",
            "INFO:httpx:HTTP Request: POST https://api.openai.com/v1/embeddings \"HTTP/1.1 200 OK\"\n",
            "HTTP Request: POST https://api.openai.com/v1/embeddings \"HTTP/1.1 200 OK\"\n",
            "INFO:httpx:HTTP Request: POST https://api.openai.com/v1/chat/completions \"HTTP/1.1 200 OK\"\n",
            "HTTP Request: POST https://api.openai.com/v1/chat/completions \"HTTP/1.1 200 OK\"\n",
            "Got output: The lowest rating of the 1st film was given by Richard Roeper from The Chicago Sun-Times, who awarded the film three stars out of four.\n",
            "========================\n",
            "\n",
            "INFO:httpx:HTTP Request: POST https://api.openai.com/v1/chat/completions \"HTTP/1.1 200 OK\"\n",
            "HTTP Request: POST https://api.openai.com/v1/chat/completions \"HTTP/1.1 200 OK\"\n"
          ]
        },
        {
          "name": "stderr",
          "output_type": "stream",
          "text": [
            "\u001b[34m\u001b[1mwandb\u001b[0m: Logged trace tree to W&B.\n"
          ]
        }
      ],
      "source": [
        "response1 = dune_agent.chat(\"What is the lowest rating of the 1st film?\")"
      ]
    },
    {
      "cell_type": "code",
      "execution_count": 46,
      "metadata": {
        "colab": {
          "base_uri": "https://localhost:8080/"
        },
        "id": "k0w0VbomSWAD",
        "outputId": "df61ee6d-8843-4f92-df84-29111890b123"
      },
      "outputs": [
        {
          "name": "stdout",
          "output_type": "stream",
          "text": [
            "The lowest rating of the 1st film, \"Dune (2021 film),\" was three stars out of four given by Richard Roeper from The Chicago Sun-Times.\n"
          ]
        }
      ],
      "source": [
        "print(str(response1))"
      ]
    },
    {
      "cell_type": "code",
      "execution_count": 47,
      "metadata": {
        "colab": {
          "base_uri": "https://localhost:8080/"
        },
        "id": "BJvN-vtJSWAD",
        "outputId": "1485a111-0ecf-4544-993e-b48bcce7413a"
      },
      "outputs": [
        {
          "name": "stdout",
          "output_type": "stream",
          "text": [
            "Added user message to memory: What planet does the 1st Dune movie take place on?\n",
            "INFO:httpx:HTTP Request: POST https://api.openai.com/v1/chat/completions \"HTTP/1.1 200 OK\"\n",
            "HTTP Request: POST https://api.openai.com/v1/chat/completions \"HTTP/1.1 200 OK\"\n",
            "=== Calling Function ===\n",
            "Calling function: semantic-film-info with args: {\"query\":\"planet where the 1st Dune movie takes place\",\"filter_key_list\":[\"title\"],\"filter_value_list\":[\"Dune (2021 film)\"]}\n",
            "INFO:httpx:HTTP Request: POST https://api.openai.com/v1/embeddings \"HTTP/1.1 200 OK\"\n",
            "HTTP Request: POST https://api.openai.com/v1/embeddings \"HTTP/1.1 200 OK\"\n",
            "INFO:httpx:HTTP Request: POST https://api.openai.com/v1/chat/completions \"HTTP/1.1 200 OK\"\n",
            "HTTP Request: POST https://api.openai.com/v1/chat/completions \"HTTP/1.1 200 OK\"\n",
            "Got output: Arrakis\n",
            "========================\n",
            "\n",
            "INFO:httpx:HTTP Request: POST https://api.openai.com/v1/chat/completions \"HTTP/1.1 200 OK\"\n",
            "HTTP Request: POST https://api.openai.com/v1/chat/completions \"HTTP/1.1 200 OK\"\n"
          ]
        },
        {
          "name": "stderr",
          "output_type": "stream",
          "text": [
            "\u001b[34m\u001b[1mwandb\u001b[0m: Logged trace tree to W&B.\n"
          ]
        }
      ],
      "source": [
        "response2 = dune_agent.chat(\"What planet does the 1st Dune movie take place on?\")"
      ]
    },
    {
      "cell_type": "code",
      "execution_count": 48,
      "metadata": {
        "colab": {
          "base_uri": "https://localhost:8080/"
        },
        "id": "F74wGv6NSWAD",
        "outputId": "3232efff-51e9-4b4e-a859-673d5a777598"
      },
      "outputs": [
        {
          "name": "stdout",
          "output_type": "stream",
          "text": [
            "The 1st Dune movie, \"Dune (2021 film),\" takes place on the planet Arrakis.\n"
          ]
        }
      ],
      "source": [
        "print(str(response2))"
      ]
    },
    {
      "cell_type": "code",
      "execution_count": 49,
      "metadata": {
        "colab": {
          "base_uri": "https://localhost:8080/"
        },
        "id": "Lvat4hmkvn3N",
        "outputId": "47406f60-dafb-4a23-9dea-541fc31a1f24"
      },
      "outputs": [
        {
          "name": "stdout",
          "output_type": "stream",
          "text": [
            "Added user message to memory: Calculate the average review of each movie - and then discuss how the average review changed over time.\n",
            "INFO:httpx:HTTP Request: POST https://api.openai.com/v1/chat/completions \"HTTP/1.1 200 OK\"\n",
            "HTTP Request: POST https://api.openai.com/v1/chat/completions \"HTTP/1.1 200 OK\"\n",
            "=== Calling Function ===\n",
            "Calling function: sql-query with args: {\"input\": \"SELECT AVG(review_rating) AS average_review FROM reviews WHERE movie_title = 'Dune (2021 film)'\"}\n",
            "INFO:llama_index.core.indices.struct_store.sql_retriever:> Table desc str: Table 'Dune (2021 film)' has columns: index (BIGINT), Unnamed: 0 (BIGINT), Review_Date (TEXT), Author (TEXT), Rating (FLOAT), Review_Title (TEXT), Review (TEXT), Review_Url (TEXT), and foreign keys: .\n",
            "\n",
            "Table 'Dune: Part 2' has columns: index (BIGINT), Unnamed: 0 (BIGINT), Review_Date (TEXT), Author (TEXT), Rating (FLOAT), Review_Title (TEXT), Review (TEXT), Review_Url (TEXT), and foreign keys: .\n",
            "> Table desc str: Table 'Dune (2021 film)' has columns: index (BIGINT), Unnamed: 0 (BIGINT), Review_Date (TEXT), Author (TEXT), Rating (FLOAT), Review_Title (TEXT), Review (TEXT), Review_Url (TEXT), and foreign keys: .\n",
            "\n",
            "Table 'Dune: Part 2' has columns: index (BIGINT), Unnamed: 0 (BIGINT), Review_Date (TEXT), Author (TEXT), Rating (FLOAT), Review_Title (TEXT), Review (TEXT), Review_Url (TEXT), and foreign keys: .\n",
            "INFO:httpx:HTTP Request: POST https://api.openai.com/v1/chat/completions \"HTTP/1.1 200 OK\"\n",
            "HTTP Request: POST https://api.openai.com/v1/chat/completions \"HTTP/1.1 200 OK\"\n",
            "INFO:httpx:HTTP Request: POST https://api.openai.com/v1/chat/completions \"HTTP/1.1 200 OK\"\n",
            "HTTP Request: POST https://api.openai.com/v1/chat/completions \"HTTP/1.1 200 OK\"\n",
            "Got output: The average review rating for the movie \"Dune (2021 film)\" is not available in the database.\n",
            "========================\n",
            "\n",
            "=== Calling Function ===\n",
            "Calling function: sql-query with args: {\"input\": \"SELECT AVG(review_rating) AS average_review FROM reviews WHERE movie_title = 'Dune: Part 2'\"}\n",
            "INFO:llama_index.core.indices.struct_store.sql_retriever:> Table desc str: Table 'Dune (2021 film)' has columns: index (BIGINT), Unnamed: 0 (BIGINT), Review_Date (TEXT), Author (TEXT), Rating (FLOAT), Review_Title (TEXT), Review (TEXT), Review_Url (TEXT), and foreign keys: .\n",
            "\n",
            "Table 'Dune: Part 2' has columns: index (BIGINT), Unnamed: 0 (BIGINT), Review_Date (TEXT), Author (TEXT), Rating (FLOAT), Review_Title (TEXT), Review (TEXT), Review_Url (TEXT), and foreign keys: .\n",
            "> Table desc str: Table 'Dune (2021 film)' has columns: index (BIGINT), Unnamed: 0 (BIGINT), Review_Date (TEXT), Author (TEXT), Rating (FLOAT), Review_Title (TEXT), Review (TEXT), Review_Url (TEXT), and foreign keys: .\n",
            "\n",
            "Table 'Dune: Part 2' has columns: index (BIGINT), Unnamed: 0 (BIGINT), Review_Date (TEXT), Author (TEXT), Rating (FLOAT), Review_Title (TEXT), Review (TEXT), Review_Url (TEXT), and foreign keys: .\n",
            "INFO:httpx:HTTP Request: POST https://api.openai.com/v1/chat/completions \"HTTP/1.1 200 OK\"\n",
            "HTTP Request: POST https://api.openai.com/v1/chat/completions \"HTTP/1.1 200 OK\"\n",
            "INFO:httpx:HTTP Request: POST https://api.openai.com/v1/chat/completions \"HTTP/1.1 200 OK\"\n",
            "HTTP Request: POST https://api.openai.com/v1/chat/completions \"HTTP/1.1 200 OK\"\n",
            "Got output: The average review rating for \"Dune: Part 2\" is 8.71.\n",
            "========================\n",
            "\n",
            "=== Calling Function ===\n",
            "Calling function: semantic-film-info with args: {\"query\": \"average review of each movie\", \"filter_key_list\": [\"title\"], \"filter_value_list\": [\"Dune (2021 film)\"]}\n",
            "INFO:httpx:HTTP Request: POST https://api.openai.com/v1/embeddings \"HTTP/1.1 200 OK\"\n",
            "HTTP Request: POST https://api.openai.com/v1/embeddings \"HTTP/1.1 200 OK\"\n",
            "INFO:httpx:HTTP Request: POST https://api.openai.com/v1/chat/completions \"HTTP/1.1 200 OK\"\n",
            "HTTP Request: POST https://api.openai.com/v1/chat/completions \"HTTP/1.1 200 OK\"\n",
            "Got output: The average review for \"Dune (2021 film)\" is 7.6/10 on Rotten Tomatoes and 74 out of 100 on Metacritic. For \"Dune: Part Two,\" the average review is 8.4/10 on Rotten Tomatoes and 79 out of 100 on Metacritic.\n",
            "========================\n",
            "\n",
            "=== Calling Function ===\n",
            "Calling function: semantic-film-info with args: {\"query\": \"average review of each movie\", \"filter_key_list\": [\"title\"], \"filter_value_list\": [\"Dune: Part 2\"]}\n",
            "INFO:httpx:HTTP Request: POST https://api.openai.com/v1/embeddings \"HTTP/1.1 200 OK\"\n",
            "HTTP Request: POST https://api.openai.com/v1/embeddings \"HTTP/1.1 200 OK\"\n",
            "Got output: Empty Response\n",
            "========================\n",
            "\n",
            "INFO:httpx:HTTP Request: POST https://api.openai.com/v1/chat/completions \"HTTP/1.1 200 OK\"\n",
            "HTTP Request: POST https://api.openai.com/v1/chat/completions \"HTTP/1.1 200 OK\"\n"
          ]
        },
        {
          "name": "stderr",
          "output_type": "stream",
          "text": [
            "\u001b[34m\u001b[1mwandb\u001b[0m: Logged trace tree to W&B.\n"
          ]
        }
      ],
      "source": [
        "response3 = dune_agent.chat(\"Calculate the average review of each movie - and then discuss how the average review changed over time.\")"
      ]
    },
    {
      "cell_type": "code",
      "execution_count": 50,
      "metadata": {
        "colab": {
          "base_uri": "https://localhost:8080/"
        },
        "id": "BEOpeuAovtZM",
        "outputId": "08eb37ef-1fd6-47da-9e23-6c847c4d205c"
      },
      "outputs": [
        {
          "name": "stdout",
          "output_type": "stream",
          "text": [
            "The average review rating for the movie \"Dune (2021 film)\" is not available in the database. However, the average review rating for \"Dune: Part 2\" is 8.71.\n",
            "\n",
            "For \"Dune (2021 film),\" the average review is 7.6/10 on Rotten Tomatoes and 74 out of 100 on Metacritic. On the other hand, for \"Dune: Part 2,\" the average review is 8.4/10 on Rotten Tomatoes and 79 out of 100 on Metacritic.\n",
            "\n",
            "The change in average review ratings over time shows an improvement from the first film to the second film, with \"Dune: Part 2\" receiving higher average ratings compared to \"Dune (2021 film).\" This indicates a positive trend in the reception and quality of the Dune movie series.\n"
          ]
        }
      ],
      "source": [
        "print(str(response3))"
      ]
    },
    {
      "cell_type": "markdown",
      "metadata": {
        "id": "WUVzyUtKqdUf"
      },
      "source": [
        "####❓ Question #4:\n",
        "\n",
        "How can you verify which tool was used for which query?"
      ]
    },
    {
      "cell_type": "code",
      "execution_count": null,
      "metadata": {},
      "outputs": [],
      "source": [
        "##Answer below - hint from class: look at response object"
      ]
    },
    {
      "cell_type": "code",
      "execution_count": 51,
      "metadata": {},
      "outputs": [
        {
          "data": {
            "text/plain": [
              "AgentChatResponse(response='The lowest rating of the 1st film, \"Dune (2021 film),\" was three stars out of four given by Richard Roeper from The Chicago Sun-Times.', sources=[ToolOutput(content='The lowest rating of the 1st film was given by Richard Roeper from The Chicago Sun-Times, who awarded the film three stars out of four.', tool_name='semantic-film-info', raw_input={'args': (), 'kwargs': {'query': 'lowest rating of the 1st film', 'filter_key_list': ['title'], 'filter_value_list': ['Dune (2021 film)']}}, raw_output='The lowest rating of the 1st film was given by Richard Roeper from The Chicago Sun-Times, who awarded the film three stars out of four.')], source_nodes=[])"
            ]
          },
          "execution_count": 51,
          "metadata": {},
          "output_type": "execute_result"
        }
      ],
      "source": [
        "# check responses\n",
        "response1"
      ]
    },
    {
      "cell_type": "code",
      "execution_count": 52,
      "metadata": {},
      "outputs": [
        {
          "data": {
            "text/plain": [
              "AgentChatResponse(response='The 1st Dune movie, \"Dune (2021 film),\" takes place on the planet Arrakis.', sources=[ToolOutput(content='Arrakis', tool_name='semantic-film-info', raw_input={'args': (), 'kwargs': {'query': 'planet where the 1st Dune movie takes place', 'filter_key_list': ['title'], 'filter_value_list': ['Dune (2021 film)']}}, raw_output='Arrakis')], source_nodes=[])"
            ]
          },
          "execution_count": 52,
          "metadata": {},
          "output_type": "execute_result"
        }
      ],
      "source": [
        "response2"
      ]
    },
    {
      "cell_type": "code",
      "execution_count": 53,
      "metadata": {},
      "outputs": [
        {
          "data": {
            "text/plain": [
              "AgentChatResponse(response='The average review rating for the movie \"Dune (2021 film)\" is not available in the database. However, the average review rating for \"Dune: Part 2\" is 8.71.\\n\\nFor \"Dune (2021 film),\" the average review is 7.6/10 on Rotten Tomatoes and 74 out of 100 on Metacritic. On the other hand, for \"Dune: Part 2,\" the average review is 8.4/10 on Rotten Tomatoes and 79 out of 100 on Metacritic.\\n\\nThe change in average review ratings over time shows an improvement from the first film to the second film, with \"Dune: Part 2\" receiving higher average ratings compared to \"Dune (2021 film).\" This indicates a positive trend in the reception and quality of the Dune movie series.', sources=[ToolOutput(content='The average review rating for the movie \"Dune (2021 film)\" is not available in the database.', tool_name='sql-query', raw_input={'input': \"SELECT AVG(review_rating) AS average_review FROM reviews WHERE movie_title = 'Dune (2021 film)'\"}, raw_output=Response(response='The average review rating for the movie \"Dune (2021 film)\" is not available in the database.', source_nodes=[NodeWithScore(node=TextNode(id_='1676101d-2c7d-403e-920f-dd6dc22ff708', embedding=None, metadata={}, excluded_embed_metadata_keys=[], excluded_llm_metadata_keys=[], relationships={}, text='[(None,)]', start_char_idx=None, end_char_idx=None, text_template='{metadata_str}\\n\\n{content}', metadata_template='{key}: {value}', metadata_seperator='\\n'), score=None)], metadata={'1676101d-2c7d-403e-920f-dd6dc22ff708': {}, 'sql_query': 'SELECT AVG(Rating) AS average_review FROM \"Dune (2021 film)\"\\nWHERE Review_Title = \\'Dune (2021 film)\\'', 'result': [(None,)], 'col_keys': ['average_review']})), ToolOutput(content='The average review rating for \"Dune: Part 2\" is 8.71.', tool_name='sql-query', raw_input={'input': \"SELECT AVG(review_rating) AS average_review FROM reviews WHERE movie_title = 'Dune: Part 2'\"}, raw_output=Response(response='The average review rating for \"Dune: Part 2\" is 8.71.', source_nodes=[NodeWithScore(node=TextNode(id_='1f9b7ffd-ff7e-407e-839f-1026001cf8f1', embedding=None, metadata={}, excluded_embed_metadata_keys=[], excluded_llm_metadata_keys=[], relationships={}, text='[(8.706896551724139,)]', start_char_idx=None, end_char_idx=None, text_template='{metadata_str}\\n\\n{content}', metadata_template='{key}: {value}', metadata_seperator='\\n'), score=None)], metadata={'1f9b7ffd-ff7e-407e-839f-1026001cf8f1': {}, 'sql_query': 'SELECT AVG(Rating) AS average_review FROM \"Dune: Part 2\"', 'result': [(8.706896551724139,)], 'col_keys': ['average_review']})), ToolOutput(content='The average review for \"Dune (2021 film)\" is 7.6/10 on Rotten Tomatoes and 74 out of 100 on Metacritic. For \"Dune: Part Two,\" the average review is 8.4/10 on Rotten Tomatoes and 79 out of 100 on Metacritic.', tool_name='semantic-film-info', raw_input={'args': (), 'kwargs': {'query': 'average review of each movie', 'filter_key_list': ['title'], 'filter_value_list': ['Dune (2021 film)']}}, raw_output='The average review for \"Dune (2021 film)\" is 7.6/10 on Rotten Tomatoes and 74 out of 100 on Metacritic. For \"Dune: Part Two,\" the average review is 8.4/10 on Rotten Tomatoes and 79 out of 100 on Metacritic.'), ToolOutput(content='Empty Response', tool_name='semantic-film-info', raw_input={'args': (), 'kwargs': {'query': 'average review of each movie', 'filter_key_list': ['title'], 'filter_value_list': ['Dune: Part 2']}}, raw_output='Empty Response')], source_nodes=[NodeWithScore(node=TextNode(id_='1676101d-2c7d-403e-920f-dd6dc22ff708', embedding=None, metadata={}, excluded_embed_metadata_keys=[], excluded_llm_metadata_keys=[], relationships={}, text='[(None,)]', start_char_idx=None, end_char_idx=None, text_template='{metadata_str}\\n\\n{content}', metadata_template='{key}: {value}', metadata_seperator='\\n'), score=None), NodeWithScore(node=TextNode(id_='1f9b7ffd-ff7e-407e-839f-1026001cf8f1', embedding=None, metadata={}, excluded_embed_metadata_keys=[], excluded_llm_metadata_keys=[], relationships={}, text='[(8.706896551724139,)]', start_char_idx=None, end_char_idx=None, text_template='{metadata_str}\\n\\n{content}', metadata_template='{key}: {value}', metadata_seperator='\\n'), score=None)])"
            ]
          },
          "execution_count": 53,
          "metadata": {},
          "output_type": "execute_result"
        }
      ],
      "source": [
        "response3"
      ]
    },
    {
      "cell_type": "code",
      "execution_count": 61,
      "metadata": {},
      "outputs": [
        {
          "name": "stdout",
          "output_type": "stream",
          "text": [
            "semantic-film-info\n"
          ]
        }
      ],
      "source": [
        "# print 1 by 1 for just response1\n",
        "print(response1.sources[0].tool_name)\n",
        "\n",
        "\n"
      ]
    },
    {
      "cell_type": "code",
      "execution_count": 62,
      "metadata": {},
      "outputs": [
        {
          "name": "stdout",
          "output_type": "stream",
          "text": [
            "semantic-film-info\n"
          ]
        }
      ],
      "source": [
        "## make more efficient and print all tools used in response1\n",
        "for source in response1.sources:\n",
        "   print(source.tool_name)\n"
      ]
    },
    {
      "cell_type": "code",
      "execution_count": 63,
      "metadata": {},
      "outputs": [
        {
          "name": "stdout",
          "output_type": "stream",
          "text": [
            "semantic-film-info\n"
          ]
        }
      ],
      "source": [
        "## make more efficient and print all tools used in response2\n",
        "for source in response2.sources:\n",
        "   print(source.tool_name)"
      ]
    },
    {
      "cell_type": "code",
      "execution_count": 64,
      "metadata": {},
      "outputs": [
        {
          "name": "stdout",
          "output_type": "stream",
          "text": [
            "sql-query\n",
            "sql-query\n",
            "semantic-film-info\n",
            "semantic-film-info\n"
          ]
        }
      ],
      "source": [
        "## make more efficient and print all tools used in response3\n",
        "for source in response3.sources:\n",
        "   print(source.tool_name)"
      ]
    },
    {
      "cell_type": "code",
      "execution_count": null,
      "metadata": {},
      "outputs": [],
      "source": [
        "#Answer\n",
        "\"\"\"\n",
        "Response1 just used the SQL tool, same with response 2\n",
        "\n",
        "Response3 was more complex and used the SQL tool twice and then the semantic film info twice\n",
        "\n",
        "\"\"\""
      ]
    },
    {
      "cell_type": "code",
      "execution_count": 1,
      "metadata": {
        "id": "D3ELqzOvSWAD"
      },
      "outputs": [
        {
          "ename": "NameError",
          "evalue": "name 'wandb_callback' is not defined",
          "output_type": "error",
          "traceback": [
            "\u001b[0;31m---------------------------------------------------------------------------\u001b[0m",
            "\u001b[0;31mNameError\u001b[0m                                 Traceback (most recent call last)",
            "Cell \u001b[0;32mIn[1], line 1\u001b[0m\n\u001b[0;32m----> 1\u001b[0m \u001b[43mwandb_callback\u001b[49m\u001b[38;5;241m.\u001b[39mfinish()\n",
            "\u001b[0;31mNameError\u001b[0m: name 'wandb_callback' is not defined"
          ]
        }
      ],
      "source": [
        "wandb_callback.finish()"
      ]
    },
    {
      "cell_type": "code",
      "execution_count": null,
      "metadata": {},
      "outputs": [],
      "source": []
    }
  ],
  "metadata": {
    "colab": {
      "provenance": []
    },
    "kernelspec": {
      "display_name": "Python 3",
      "language": "python",
      "name": "python3"
    },
    "language_info": {
      "codemirror_mode": {
        "name": "ipython",
        "version": 3
      },
      "file_extension": ".py",
      "mimetype": "text/x-python",
      "name": "python",
      "nbconvert_exporter": "python",
      "pygments_lexer": "ipython3",
      "version": "3.11.4"
    },
    "orig_nbformat": 4
  },
  "nbformat": 4,
  "nbformat_minor": 0
}
