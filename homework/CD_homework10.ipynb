{
  "cells": [
    {
      "cell_type": "markdown",
      "metadata": {
        "id": "ctrwj6Cj24Zp"
      },
      "source": [
        "# LangChain with Open Source LLM and Open Source Embeddings & LangSmith\n",
        "\n",
        "In the following notebook we will dive into the world of Open Source models hosted on Hugging Face's [inference endpoints](https://ui.endpoints.huggingface.co/).\n",
        "\n",
        "The notebook will be broken into the following parts:\n",
        "\n",
        "- 🤝 Breakout Room #1:\n",
        "  1. Set-up Hugging Face Infrence Endpoints\n",
        "  2. Install required libraries\n",
        "  3. Set Environment Variables\n",
        "  4. Testing our Hugging Face Inference Endpoint\n",
        "  5. Creating LangChain components powered by the endpoints\n",
        "  6. Retrieving data from Arxiv\n",
        "  7. Creating a simple RAG pipeline with [LangChain v0.1.0](https://blog.langchain.dev/langchain-v0-1-0/)\n",
        "  \n",
        "\n",
        "- 🤝 Breakout Room #2:\n",
        "  1. Set-up LangSmith\n",
        "  2. Creating a LangSmith dataset\n",
        "  3. Creating a custom evaluator\n",
        "  4. Initializing our evaluator config\n",
        "  5. Evaluating our RAG pipeline"
      ]
    },
    {
      "cell_type": "markdown",
      "metadata": {
        "id": "AduTna3oCbP4"
      },
      "source": [
        "# 🤝 Breakout Room #1"
      ]
    },
    {
      "cell_type": "markdown",
      "metadata": {
        "id": "ENUY6OSnDy7A"
      },
      "source": [
        "## Task 1: Set-up Hugging Face Infrence Endpoints\n",
        "\n",
        "Please follow the instructions provided [here](https://github.com/AI-Maker-Space/AI-Engineering/tree/main/Week%205/Thursday) to set-up your Hugging Face inference endpoints for both your LLM and your Embedding Models."
      ]
    },
    {
      "cell_type": "markdown",
      "metadata": {
        "id": "-spIWt2J3Quk"
      },
      "source": [
        "## Task 2: Install required libraries\n",
        "\n",
        "Now we've got to get our required libraries!\n",
        "\n",
        "We'll start with our `langchain` and `huggingface` dependencies.\n",
        "\n"
      ]
    },
    {
      "cell_type": "code",
      "execution_count": 2,
      "metadata": {
        "id": "EwGLnp31jXJj"
      },
      "outputs": [],
      "source": [
        "!pip install langchain langchain-core langchain-community langchain_openai huggingface-hub requests -q -U"
      ]
    },
    {
      "cell_type": "markdown",
      "metadata": {
        "id": "yPXElql-EE9Q"
      },
      "source": [
        "Now we can grab some miscellaneous dependencies that will help us power our RAG pipeline!"
      ]
    },
    {
      "cell_type": "code",
      "execution_count": 3,
      "metadata": {
        "colab": {
          "base_uri": "https://localhost:8080/"
        },
        "id": "FMJqq8SYt34V",
        "outputId": "1beb2230-358b-43b1-e476-2efb8619d22e"
      },
      "outputs": [
        {
          "name": "stdout",
          "output_type": "stream",
          "text": [
            "\u001b[2K     \u001b[90m━━━━━━━━━━━━━━━━━━━━━━━━━━━━━━━━━━━━━━━━\u001b[0m \u001b[32m4.4/4.4 MB\u001b[0m \u001b[31m46.7 MB/s\u001b[0m eta \u001b[36m0:00:00\u001b[0m\n",
            "\u001b[2K     \u001b[90m━━━━━━━━━━━━━━━━━━━━━━━━━━━━━━━━━━━━━━━━\u001b[0m \u001b[32m27.0/27.0 MB\u001b[0m \u001b[31m50.7 MB/s\u001b[0m eta \u001b[36m0:00:00\u001b[0m\n",
            "\u001b[2K     \u001b[90m━━━━━━━━━━━━━━━━━━━━━━━━━━━━━━━━━━━━━━━━\u001b[0m \u001b[32m81.1/81.1 kB\u001b[0m \u001b[31m10.1 MB/s\u001b[0m eta \u001b[36m0:00:00\u001b[0m\n",
            "\u001b[?25h  Preparing metadata (setup.py) ... \u001b[?25l\u001b[?25hdone\n",
            "\u001b[2K     \u001b[90m━━━━━━━━━━━━━━━━━━━━━━━━━━━━━━━━━━━━━━━━\u001b[0m \u001b[32m30.6/30.6 MB\u001b[0m \u001b[31m16.2 MB/s\u001b[0m eta \u001b[36m0:00:00\u001b[0m\n",
            "\u001b[?25h  Building wheel for sgmllib3k (setup.py) ... \u001b[?25l\u001b[?25hdone\n"
          ]
        }
      ],
      "source": [
        "!pip install arxiv pymupdf faiss-cpu -q -U"
      ]
    },
    {
      "cell_type": "markdown",
      "metadata": {
        "id": "SpZTBLwK3TIz"
      },
      "source": [
        "## Task 3: Set Environment Variables\n",
        "\n",
        "We'll need to set our `HF_TOKEN` so that we can send requests to our protected API endpoint.\n",
        "\n",
        "We'll also set-up our OpenAI API key, which we'll leverage later.\n",
        "\n"
      ]
    },
    {
      "cell_type": "code",
      "execution_count": 4,
      "metadata": {
        "colab": {
          "base_uri": "https://localhost:8080/"
        },
        "id": "NspG8I0XlFTt",
        "outputId": "d5463e87-0386-40a7-b0c5-9e1c15cb4e00"
      },
      "outputs": [
        {
          "name": "stdout",
          "output_type": "stream",
          "text": [
            "HuggingFace Write Token: ··········\n"
          ]
        }
      ],
      "source": [
        "import os\n",
        "import getpass\n",
        "\n",
        "os.environ[\"HF_TOKEN\"] = getpass.getpass(\"HuggingFace Write Token: \")"
      ]
    },
    {
      "cell_type": "code",
      "execution_count": 5,
      "metadata": {
        "colab": {
          "base_uri": "https://localhost:8080/"
        },
        "id": "giMejsXN7EKb",
        "outputId": "78003f12-eaf7-4d5b-82d8-217cd9cf161d"
      },
      "outputs": [
        {
          "name": "stdout",
          "output_type": "stream",
          "text": [
            "OpenAI API Key:··········\n"
          ]
        }
      ],
      "source": [
        "os.environ[\"OPENAI_API_KEY\"] = getpass.getpass(\"OpenAI API Key:\")"
      ]
    },
    {
      "cell_type": "markdown",
      "metadata": {
        "id": "-3M7TzXs3WsJ"
      },
      "source": [
        "## Task 4: Testing our Hugging Face Inference Endpoint\n",
        "\n",
        "Let's submit a sample request to the Hugging Face Inference endpoint!"
      ]
    },
    {
      "cell_type": "code",
      "execution_count": 6,
      "metadata": {
        "id": "uyFgZVUSEexW"
      },
      "outputs": [],
      "source": [
        "model_api_gateway = \"https://rg12l8ucigwu4oh2.us-east-1.aws.endpoints.huggingface.cloud\""
      ]
    },
    {
      "cell_type": "markdown",
      "metadata": {
        "id": "EvnMlmEsEiqS"
      },
      "source": [
        "> NOTE: If you're running into issues finding your API URL you can find it at [this](https://ui.endpoints.huggingface.co/) link.\n",
        "\n",
        "Here's an example:\n",
        "\n",
        "![image](https://i.imgur.com/xSCV0xM.png)"
      ]
    },
    {
      "cell_type": "code",
      "execution_count": 7,
      "metadata": {
        "colab": {
          "base_uri": "https://localhost:8080/"
        },
        "id": "-fVaR1onmtkz",
        "outputId": "569af7a9-a0cb-40e5-812b-667c3ec122ad"
      },
      "outputs": [
        {
          "name": "stdout",
          "output_type": "stream",
          "text": [
            "[{'generated_text': ' I hope you’re having a great day. Today I’m going to share with you a recipe for a delicious and healthy snack that I’ve been loving lately: roasted chickpeas.\\n\\nChickpeas are a great source of protein, fiber, and complex carbohydrates. They’re also very versatile and can be used in a variety of dishes, from salads and stews to hummus and falafel. But today, we’re going to roast them and turn them into a delicious and crunchy snack.\\n\\nHere’s what you’ll need:\\n\\n- 1 can of chickpeas, drained and rinsed\\n- 1 tablespoon of olive oil\\n- Salt and pepper to taste\\n- Optional: paprika, garlic powder, cumin, or other spices\\n\\nPreheat your oven to 400°F (205°C). Spread the chickpeas out on a baking sheet and drizzle them with olive oil. Toss them around to make sure they’re evenly coated. Sprinkle with salt and pepper, and any other spices you’d like to use'}]\n"
          ]
        }
      ],
      "source": [
        "import requests\n",
        "\n",
        "max_new_tokens = 256\n",
        "top_p = 0.9\n",
        "temperature = 0.1\n",
        "\n",
        "prompt = \"Hello! How are you?\"\n",
        "\n",
        "json_body = {\n",
        "    \"inputs\" : prompt,\n",
        "    \"parameters\" : {\n",
        "        \"max_new_tokens\" : max_new_tokens,\n",
        "        \"top_p\" : top_p,\n",
        "        \"temperature\" : temperature\n",
        "    }\n",
        "}\n",
        "\n",
        "headers = {\n",
        "  \"Authorization\": f\"Bearer {os.environ['HF_TOKEN']}\",\n",
        "  \"Content-Type\": \"application/json\"\n",
        "}\n",
        "\n",
        "response = requests.post(model_api_gateway, json=json_body, headers=headers)\n",
        "print(response.json())"
      ]
    },
    {
      "cell_type": "markdown",
      "metadata": {
        "id": "mXTBnBTy3b62"
      },
      "source": [
        "## Task 5: Creating LangChain components powered by the endpoints\n",
        "\n",
        "We're going to wrap our endpoints in LangChain components in order to leverage them, thanks to LCEL, as we would any other LCEL component!"
      ]
    },
    {
      "cell_type": "markdown",
      "metadata": {
        "id": "fd5DaxGEFohF"
      },
      "source": [
        "### HuggingFaceEndpoint for LLM\n",
        "\n",
        "We can use the `HuggingFaceEndpoint` found [here](https://github.com/langchain-ai/langchain/blob/master/libs/community/langchain_community/llms/huggingface_endpoint.py) to power our chain - let's look at how we would implement it."
      ]
    },
    {
      "cell_type": "code",
      "execution_count": 8,
      "metadata": {
        "colab": {
          "base_uri": "https://localhost:8080/"
        },
        "id": "8vc7K1rFhSVt",
        "outputId": "27d5147f-a097-4997-e8da-5046357fd919"
      },
      "outputs": [
        {
          "name": "stdout",
          "output_type": "stream",
          "text": [
            "Token has not been saved to git credential helper. Pass `add_to_git_credential=True` if you want to set the git credential as well.\n",
            "Token is valid (permission: write).\n",
            "Your token has been saved to /root/.cache/huggingface/token\n",
            "Login successful\n"
          ]
        }
      ],
      "source": [
        "from langchain.llms import HuggingFaceEndpoint\n",
        "\n",
        "endpoint_url = (\n",
        "    model_api_gateway\n",
        ")\n",
        "\n",
        "hf_llm = HuggingFaceEndpoint(\n",
        "    endpoint_url=endpoint_url,\n",
        "    huggingfacehub_api_token=os.environ[\"HF_TOKEN\"],\n",
        "    task=\"text-generation\"\n",
        ")"
      ]
    },
    {
      "cell_type": "markdown",
      "metadata": {
        "id": "t-PBb3MPFN_t"
      },
      "source": [
        "Now we can use our endpoint like we would any other LLM!"
      ]
    },
    {
      "cell_type": "code",
      "execution_count": 9,
      "metadata": {
        "colab": {
          "base_uri": "https://localhost:8080/",
          "height": 105
        },
        "id": "mMJrWnKISFqb",
        "outputId": "dc3aafe6-2f3f-4542-f64d-c71b488676f9"
      },
      "outputs": [
        {
          "data": {
            "application/vnd.google.colaboratory.intrinsic+json": {
              "type": "string"
            },
            "text/plain": [
              "' I\\'m fine, thank you for asking! I\\'ve been keeping busy with school and various projects. Today I want to talk to you about a new music festival that\\'s coming to town, it\\'s called \"Fusion Fest\" and it\\'s going to be awesome!\\n\\nFusion Fest is a two-day music festival that will take place on June 11th and 12th. It will be held at the beautiful Lake Chabot Regional Park in Castro Valley, California. The festival will feature a diverse lineup of local and international musicians, DJs, and artists. There will also be food vendors, art installations, and activities for all ages.\\n\\nThe music lineup includes a wide range of genres, from electronic dance music (EDM), hip-hop, reggae, funk, and world music. Some of the featured artists include Bassnectar, GRiZ, Big Gigantic, KRS-One, Rebelution, and many more.\\n\\nOne of the things that sets Fusion Fest apart from other music festivals is its commitment to sustainability. The festival organizers have implemented a number of eco-friendly initiatives, such as composting and recycling stations, solar-powered stages, and a carpooling program. They are also partnering with local environmental organizations to raise awareness and funds for various causes.\\n\\nAnother unique aspect of Fusion Fest is its community focus. The festival is not just about the music, but also about bringing people together to celebrate diversity, creativity, and positivity. There will be workshops, panel discussions, and other interactive activities that will allow attendees to learn new skills, connect with like-minded individuals, and give back to the community.\\n\\nI\\'m really excited about Fusion Fest and I hope to see you there! If you\\'re interested in attending, you can purchase tickets on the festival\\'s website. I\\'ll be there covering the event for the school paper, so if you see me, come say hi!\\n\\nUntil next time, keep grooving and stay sustainable! 🎶🌍💚\\n\\nP.S. Here are some more details about the festival if you\\'re interested:\\n\\nWebsite: https://www.fusionfestmusic.com/\\n\\nLocation: Lake Chabot Regional Park, Castro Valley, CA\\n\\nDates'"
            ]
          },
          "execution_count": 9,
          "metadata": {},
          "output_type": "execute_result"
        }
      ],
      "source": [
        "hf_llm.invoke(\"Hello, how are you?\")"
      ]
    },
    {
      "cell_type": "markdown",
      "metadata": {
        "id": "1EBtSBMj3-Hu"
      },
      "source": [
        "### HuggingFaceInferenceAPIEmbeddings\n",
        "\n",
        "Now we can leverage the `HuggingFaceInferenceAPIEmbeddings` module in LangChain to connect to our Hugging Face Inference Endpoint hosted embedding model."
      ]
    },
    {
      "cell_type": "code",
      "execution_count": 21,
      "metadata": {
        "id": "wrZJHVGkGLZr"
      },
      "outputs": [],
      "source": [
        "embedding_api_gateway = \"https://g1yfj2993ksw5gnl.us-east-1.aws.endpoints.huggingface.cloud\""
      ]
    },
    {
      "cell_type": "code",
      "execution_count": 22,
      "metadata": {
        "id": "4asz9Ofn0MtP"
      },
      "outputs": [],
      "source": [
        "from langchain.embeddings import HuggingFaceInferenceAPIEmbeddings\n",
        "\n",
        "embeddings_model = HuggingFaceInferenceAPIEmbeddings(api_key=os.environ[\"HF_TOKEN\"], api_url=embedding_api_gateway)"
      ]
    },
    {
      "cell_type": "code",
      "execution_count": 23,
      "metadata": {
        "colab": {
          "base_uri": "https://localhost:8080/"
        },
        "id": "HvF_eMZZKnlm",
        "outputId": "b76d2801-6f5e-4e54-b691-311f24cee8d0"
      },
      "outputs": [
        {
          "data": {
            "text/plain": [
              "[-0.01926689,\n",
              " 0.01546007,\n",
              " -0.046256967,\n",
              " -0.021581108,\n",
              " -0.009921011,\n",
              " 0.00024049378,\n",
              " -0.033302825,\n",
              " -0.0010723798,\n",
              " 0.027798,\n",
              " 0.011502621]"
            ]
          },
          "execution_count": 23,
          "metadata": {},
          "output_type": "execute_result"
        }
      ],
      "source": [
        "embeddings_model.embed_query(\"Hello, welcome to HF Endpoint Embeddings\")[:10]"
      ]
    },
    {
      "cell_type": "markdown",
      "metadata": {
        "id": "EtbNzDF-e7JI"
      },
      "source": [
        "#### ❓ Question #1\n",
        "\n",
        "What is the embedding dimension of your selected embeddings model?"
      ]
    },
    {
      "cell_type": "markdown",
      "metadata": {
        "id": "P9pLgHfR3uY9"
      },
      "source": [
        "## Task 6: Retrieving data from Arxiv\n",
        "\n",
        "We'll leverage the `ArxivLoader` to load some papers about the \"QLoRA\" topic, and then split them into more manageable chunks!"
      ]
    },
    {
      "cell_type": "code",
      "execution_count": 24,
      "metadata": {
        "id": "wybDDkR5fHgU"
      },
      "outputs": [],
      "source": [
        "from langchain.document_loaders import ArxivLoader\n",
        "\n",
        "docs = ArxivLoader(query=\"QLoRA\", load_max_docs=5).load()"
      ]
    },
    {
      "cell_type": "code",
      "execution_count": 25,
      "metadata": {
        "id": "4F249yWeuCKd"
      },
      "outputs": [],
      "source": [
        "from langchain.text_splitter import RecursiveCharacterTextSplitter\n",
        "\n",
        "text_splitter = RecursiveCharacterTextSplitter(\n",
        "    chunk_size = 500,\n",
        "    chunk_overlap = 0,\n",
        "    length_function = len,\n",
        ")\n",
        "\n",
        "split_chunks = text_splitter.split_documents(docs)"
      ]
    },
    {
      "cell_type": "code",
      "execution_count": 26,
      "metadata": {
        "id": "7yO05R6mtyCB"
      },
      "outputs": [],
      "source": [
        "from langchain.document_loaders import ArxivLoader\n",
        "\n",
        "docs = ArxivLoader(query=\"QLoRA\", load_max_docs=5).load()"
      ]
    },
    {
      "cell_type": "code",
      "execution_count": 27,
      "metadata": {
        "colab": {
          "base_uri": "https://localhost:8080/"
        },
        "id": "d9BO1Y1Xur0e",
        "outputId": "98eacf77-5441-42ac-8ad0-aeea740b5c37"
      },
      "outputs": [
        {
          "data": {
            "text/plain": [
              "528"
            ]
          },
          "execution_count": 27,
          "metadata": {},
          "output_type": "execute_result"
        }
      ],
      "source": [
        "len(split_chunks)"
      ]
    },
    {
      "cell_type": "markdown",
      "metadata": {
        "id": "3sZBBjdM4Or8"
      },
      "source": [
        "Just the same as we would with OpenAI's embeddings model - we can instantiate our `FAISS` vector store with our documents and our `HuggingFaceEmbeddings` model!\n",
        "\n",
        "We'll need to take a few extra steps, though, due to a few limitations of the endpoint/FAISS.\n",
        "\n",
        "We'll start by embeddings our documents in batches of `32`."
      ]
    },
    {
      "cell_type": "code",
      "execution_count": 28,
      "metadata": {
        "id": "FBCTm-JZ0mVr"
      },
      "outputs": [],
      "source": [
        "embeddings = []\n",
        "for i in range(0, len(split_chunks) - 1, 32):\n",
        "  embeddings.append(embeddings_model.embed_documents([document.page_content for document in split_chunks[i:i+32]]))"
      ]
    },
    {
      "cell_type": "code",
      "execution_count": 29,
      "metadata": {
        "id": "4wLY8FDGNDym"
      },
      "outputs": [],
      "source": [
        "embeddings = [item for sub_list in embeddings for item in sub_list]"
      ]
    },
    {
      "cell_type": "markdown",
      "metadata": {
        "id": "Xgc_e-9QHJTm"
      },
      "source": [
        "#### ❓ Question #2\n",
        "\n",
        "Why do we have to limit our batches when sending to the Hugging Face endpoints?"
      ]
    },
    {
      "cell_type": "markdown",
      "metadata": {
        "id": "xn4lECg2TTza"
      },
      "source": [
        "Now we can create text/embedding pairs which we want use to set-up our FAISS VectorStore!"
      ]
    },
    {
      "cell_type": "code",
      "execution_count": 32,
      "metadata": {
        "id": "6C1bw7srOVJX"
      },
      "outputs": [],
      "source": [
        "from langchain.vectorstores import FAISS\n",
        "\n",
        "text_embedding_pairs = list(zip([document.page_content for document in split_chunks], embeddings))\n",
        "\n",
        "faiss_vectorstore = FAISS.from_embeddings(text_embedding_pairs, embeddings_model)"
      ]
    },
    {
      "cell_type": "markdown",
      "metadata": {
        "id": "NXbexmFSTZKF"
      },
      "source": [
        "Next, we set up FAISS as a retriever."
      ]
    },
    {
      "cell_type": "code",
      "execution_count": 33,
      "metadata": {
        "id": "BSUZYfvAPxTF"
      },
      "outputs": [],
      "source": [
        "faiss_retriever = faiss_vectorstore.as_retriever(search_kwargs={\"k\" : 2})"
      ]
    },
    {
      "cell_type": "markdown",
      "metadata": {
        "id": "ce1ZWj8aTchK"
      },
      "source": [
        "Let's test it out!"
      ]
    },
    {
      "cell_type": "code",
      "execution_count": 34,
      "metadata": {
        "colab": {
          "base_uri": "https://localhost:8080/"
        },
        "id": "0DwHoaIDQQ9E",
        "outputId": "01bbac22-cce3-4fe6-a225-7ff8fd2a530c"
      },
      "outputs": [
        {
          "data": {
            "text/plain": [
              "[Document(page_content='Among these approaches, QLoRA (Dettmers\\net al., 2023) stands out as a recent and highly\\nefficient fine-tuning method that dramatically de-\\ncreases memory usage. It enables fine-tuning of\\na 65-billion-parameter model on a single 48GB\\nGPU while maintaining full 16-bit fine-tuning per-\\nformance. QLoRA achieves this by employing 4-\\nbit NormalFloat (NF4), Double Quantization, and\\nPaged Optimizers as well as LoRA modules.\\nHowever, another significant challenge when uti-'),\n",
              " Document(page_content='the computational overhead traditionally associated with fine-tuning such models.\\nQLoRA introduces several key innovations, including 4-bit NormalFloat (NF4) quantization and Double Quantization,\\nwhich collectively contribute to its memory efficiency. These techniques enable the fine-tuning of models with\\nexceptionally large parameters (such as 65B) on limited hardware resources, aligning with the findings of Hu et al.\\n[2021].\\n4')]"
            ]
          },
          "execution_count": 34,
          "metadata": {},
          "output_type": "execute_result"
        }
      ],
      "source": [
        "faiss_retriever.get_relevant_documents(\"What optimizer does QLoRA use?\")"
      ]
    },
    {
      "cell_type": "markdown",
      "metadata": {
        "id": "Xm0IjkpFSdmw"
      },
      "source": [
        "### Prompt Template\n",
        "\n",
        "Now that we have our LLM and our Retiever set-up, let's connect them with our Prompt Template!"
      ]
    },
    {
      "cell_type": "code",
      "execution_count": 35,
      "metadata": {
        "id": "Gqpayd-kTyiq"
      },
      "outputs": [],
      "source": [
        "from langchain.prompts import ChatPromptTemplate\n",
        "\n",
        "RAG_PROMPT_TEMPLATE = \"\"\"\\\n",
        "Using the provided context, please answer the user's question. If you don't know, say you don't know.\n",
        "\n",
        "Context:\n",
        "{context}\n",
        "\n",
        "Question:\n",
        "{question}\n",
        "\"\"\"\n",
        "\n",
        "rag_prompt = ChatPromptTemplate.from_template(RAG_PROMPT_TEMPLATE)"
      ]
    },
    {
      "cell_type": "markdown",
      "metadata": {
        "id": "NikHqHljIIdK"
      },
      "source": [
        "#### ❓ Question #3\n",
        "\n",
        "Does the ordering of the prompt matter?\n",
        "\n"
      ]
    },
    {
      "cell_type": "markdown",
      "metadata": {
        "id": "Gwy1YOy34aXf"
      },
      "source": [
        "## Task 7: Creating a simple RAG pipeline with LangChain v0.1.0\n",
        "\n",
        "All that's left to do is set up a RAG chain - and away we go!"
      ]
    },
    {
      "cell_type": "code",
      "execution_count": 36,
      "metadata": {
        "id": "i0q8CUu809M-"
      },
      "outputs": [],
      "source": [
        "from operator import itemgetter\n",
        "from langchain_core.runnables import RunnablePassthrough, RunnableParallel\n",
        "from langchain.schema import StrOutputParser\n",
        "\n",
        "retrieval_augmented_qa_chain = (\n",
        "    {\n",
        "        \"context\": itemgetter(\"question\") | faiss_retriever,\n",
        "        \"question\": itemgetter(\"question\"),\n",
        "    }\n",
        "    | rag_prompt\n",
        "    | hf_llm\n",
        "    | StrOutputParser()\n",
        ")"
      ]
    },
    {
      "cell_type": "markdown",
      "metadata": {
        "id": "sHyy5p484iUD"
      },
      "source": [
        "Let's test it out!"
      ]
    },
    {
      "cell_type": "code",
      "execution_count": 37,
      "metadata": {
        "colab": {
          "base_uri": "https://localhost:8080/",
          "height": 53
        },
        "id": "OezUhZGrUr63",
        "outputId": "e927a7de-dd7a-4827-d960-3ca4b6759c6f"
      },
      "outputs": [
        {
          "data": {
            "application/vnd.google.colaboratory.intrinsic+json": {
              "type": "string"
            },
            "text/plain": [
              "'\\nAnswer:\\nQLoRA, as mentioned in the context, is a method or framework that uses low-rank matrices in conjunction with quantization techniques to fine-tune Large Language Models (LLMs). It aims to make the process of fine-tuning high-quality LLMs more accessible and widely used. The application of QLoRA can bring about operational benefits, such as resource utilization and performance improvement.'"
            ]
          },
          "execution_count": 37,
          "metadata": {},
          "output_type": "execute_result"
        }
      ],
      "source": [
        "retrieval_augmented_qa_chain.invoke({\"question\" : \"What is QLoRA?\"})"
      ]
    },
    {
      "cell_type": "markdown",
      "metadata": {
        "id": "LGsV8x_ZIWZ9"
      },
      "source": [
        "# 🤝 Breakout Room #2"
      ]
    },
    {
      "cell_type": "markdown",
      "metadata": {
        "id": "YrKQSs_r4gl8"
      },
      "source": [
        "## Task 1: Set-up LangSmith\n",
        "\n",
        "We'll be moving through this notebook to explain what visibility tools can do to help us!\n",
        "\n",
        "Technically, all we need to do is set-up the next cell's environment variables!"
      ]
    },
    {
      "cell_type": "code",
      "execution_count": 38,
      "metadata": {
        "colab": {
          "base_uri": "https://localhost:8080/"
        },
        "id": "1S5X3EE847PO",
        "outputId": "fa58ff3c-43dc-4499-cd53-31ee7cc4d140"
      },
      "outputs": [
        {
          "name": "stdout",
          "output_type": "stream",
          "text": [
            "Enter your LangSmith API key: ··········\n"
          ]
        }
      ],
      "source": [
        "from uuid import uuid4\n",
        "\n",
        "unique_id = uuid4().hex[0:8]\n",
        "\n",
        "os.environ[\"LANGCHAIN_TRACING_V2\"] = \"true\"\n",
        "os.environ[\"LANGCHAIN_PROJECT\"] = f\"AIE1 - {unique_id}\"\n",
        "os.environ[\"LANGCHAIN_ENDPOINT\"] = \"https://api.smith.langchain.com\"\n",
        "os.environ[\"LANGCHAIN_API_KEY\"] = getpass.getpass('Enter your LangSmith API key: ')"
      ]
    },
    {
      "cell_type": "code",
      "execution_count": 39,
      "metadata": {
        "colab": {
          "base_uri": "https://localhost:8080/",
          "height": 53
        },
        "id": "1Yr8j5hqJGET",
        "outputId": "88268a2d-38d6-48a5-94c6-d6051fa70f45"
      },
      "outputs": [
        {
          "data": {
            "application/vnd.google.colaboratory.intrinsic+json": {
              "type": "string"
            },
            "text/plain": [
              "\"\\nAnswer:\\nQLoRA, based on the context provided, is a method for fine-tuning Large Language Models (LLMs) using low-rank matrices in conjunction with quantization techniques. It's designed to make the process more accessible and widely available. The specific application and benefits of QLoRA, particularly in terms of resource utilization and performance improvement, can be seen in its integration with Viz.\""
            ]
          },
          "execution_count": 39,
          "metadata": {},
          "output_type": "execute_result"
        }
      ],
      "source": [
        "retrieval_augmented_qa_chain.invoke({\"question\" : \"What is QLoRA?\"})"
      ]
    },
    {
      "cell_type": "markdown",
      "metadata": {
        "id": "zmaxEfcWJWXc"
      },
      "source": [
        "We get *all of this information* for \"free\":\n",
        "\n",
        "![image](https://i.imgur.com/8Wcpmcj.png)\n",
        "\n",
        "> NOTE: We'll walk through this diagram in detail in class."
      ]
    },
    {
      "cell_type": "markdown",
      "metadata": {
        "id": "JsFaAg1TJ8JE"
      },
      "source": [
        "####🏗️ Activity #1:\n",
        "\n",
        "Please describe the trace of the previous request and answer these questions:\n",
        "\n",
        "1. How many tokens did the request use?\n",
        "2. How long did the `HuggingFaceEndpoint` take to complete?"
      ]
    },
    {
      "cell_type": "markdown",
      "metadata": {
        "id": "aBhHKaTvlecX"
      },
      "source": [
        "Answer:\n",
        "\n",
        "1) 325 tokens, 243 input tokens and 82 output tokens\n",
        "\n",
        "\n",
        "2) the HF endpoint tok 3.09 seconds to complete"
      ]
    },
    {
      "cell_type": "markdown",
      "metadata": {
        "id": "0XdbE0m3JgJp"
      },
      "source": [
        "## Task 2: Creating a LangSmith dataset\n",
        "\n",
        "Now that we've got LangSmith set-up - let's explore how we can create a dataset!\n",
        "\n",
        "First, we'll create a list of questions!"
      ]
    },
    {
      "cell_type": "code",
      "execution_count": 41,
      "metadata": {
        "id": "-KVSO6Eh5DpC"
      },
      "outputs": [],
      "source": [
        "from langsmith import Client\n",
        "\n",
        "questions = [\n",
        "    \"What optimizer is used in QLoRA?\",\n",
        "    \"What data type was created in the QLoRA paper?\",\n",
        "    \"What is a Retrieval Augmented Generation system?\",\n",
        "    \"Who authored the QLoRA paper?\",\n",
        "    \"What is the most popular deep learning framework?\",\n",
        "    \"What significant improvements does the LoRA system make?\"\n",
        "]"
      ]
    },
    {
      "cell_type": "markdown",
      "metadata": {
        "id": "urLbc0B8K6QZ"
      },
      "source": [
        "Now we can create our dataset through the LangSmith `Client()`."
      ]
    },
    {
      "cell_type": "code",
      "execution_count": 42,
      "metadata": {
        "id": "NUH0m7AuKyn7"
      },
      "outputs": [],
      "source": [
        "client = Client()\n",
        "dataset_name = \"QLoRA RAG Dataset\"\n",
        "\n",
        "dataset = client.create_dataset(\n",
        "    dataset_name=dataset_name,\n",
        "    description=\"Questions about the QLoRA Paper to Evaluate RAG over the same paper.\"\n",
        ")\n",
        "\n",
        "client.create_examples(\n",
        "    inputs=[{\"question\" : q} for q in questions],\n",
        "    dataset_id=dataset.id\n",
        ")"
      ]
    },
    {
      "cell_type": "markdown",
      "metadata": {
        "id": "2jxaByg9LFfX"
      },
      "source": [
        "After this step you should be able to navigate to the following dataset in the LangSmith web UI.\n",
        "\n",
        "![image](https://i.imgur.com/CdFYGTB.png)"
      ]
    },
    {
      "cell_type": "markdown",
      "metadata": {
        "id": "MbVQaJi3LsdU"
      },
      "source": [
        "## Task 3: Creating a custom evaluator\n",
        "\n",
        "Now that we have a dataset - we can start thinking about evaluation.\n",
        "\n",
        "We're going to make a `StringEvaluator` to measure \"dopeness\".\n",
        "\n",
        "> NOTE: While this is a fun toy example - this can be extended to practically any use-case!"
      ]
    },
    {
      "cell_type": "code",
      "execution_count": 43,
      "metadata": {
        "id": "qofRv8FI7TeZ"
      },
      "outputs": [],
      "source": [
        "import re\n",
        "from typing import Any, Optional\n",
        "from langchain_openai import ChatOpenAI\n",
        "from langchain_core.prompts import PromptTemplate\n",
        "from langchain.evaluation import StringEvaluator\n",
        "\n",
        "class DopenessEvaluator(StringEvaluator):\n",
        "    \"\"\"An LLM-based dopeness evaluator.\"\"\"\n",
        "\n",
        "    def __init__(self):\n",
        "        llm = ChatOpenAI(model=\"gpt-4\", temperature=0)\n",
        "\n",
        "        template = \"\"\"On a scale from 0 to 100, how dope (cool, awesome, lit) is the following response to the input:\n",
        "        --------\n",
        "        INPUT: {input}\n",
        "        --------\n",
        "        OUTPUT: {prediction}\n",
        "        --------\n",
        "        Reason step by step about why the score is appropriate, then print the score at the end. At the end, repeat that score alone on a new line.\"\"\"\n",
        "\n",
        "        self.eval_chain = PromptTemplate.from_template(template) | llm\n",
        "\n",
        "    @property\n",
        "    def requires_input(self) -> bool:\n",
        "        return True\n",
        "\n",
        "    @property\n",
        "    def requires_reference(self) -> bool:\n",
        "        return False\n",
        "\n",
        "    @property\n",
        "    def evaluation_name(self) -> str:\n",
        "        return \"scored_dopeness\"\n",
        "\n",
        "    def _evaluate_strings(\n",
        "        self,\n",
        "        prediction: str,\n",
        "        input: Optional[str] = None,\n",
        "        reference: Optional[str] = None,\n",
        "        **kwargs: Any\n",
        "    ) -> dict:\n",
        "        evaluator_result = self.eval_chain.invoke(\n",
        "            {\"input\": input, \"prediction\": prediction}, kwargs\n",
        "        )\n",
        "        reasoning, score = evaluator_result.content.split(\"\\n\", maxsplit=1)\n",
        "        score = re.search(r\"\\d+\", score).group(0)\n",
        "        if score is not None:\n",
        "            score = float(score.strip()) / 100.0\n",
        "        return {\"score\": score, \"reasoning\": reasoning.strip()}"
      ]
    },
    {
      "cell_type": "markdown",
      "metadata": {
        "id": "-PoETszTMSNW"
      },
      "source": [
        "## Task 4: Initializing our evaluator config\n",
        "\n",
        "Now we can initialize our `RunEvalConfig` which we can use to evaluate our chain against our dataset.\n",
        "\n",
        "> NOTE: Check out the [documentation](https://docs.smith.langchain.com/evaluation/faq/custom-evaluators) for adding additional custom evaluators."
      ]
    },
    {
      "cell_type": "code",
      "execution_count": 44,
      "metadata": {
        "id": "pc0bedbe-S2z"
      },
      "outputs": [],
      "source": [
        "from langchain.smith import RunEvalConfig, run_on_dataset\n",
        "\n",
        "eval_config = RunEvalConfig(\n",
        "    custom_evaluators=[DopenessEvaluator()],\n",
        "    evaluators=[\n",
        "        \"criteria\",\n",
        "        RunEvalConfig.Criteria(\"harmfulness\"),\n",
        "        RunEvalConfig.Criteria(\n",
        "            {\n",
        "                \"AI\": \"Does the response feel AI generated?\"\n",
        "                \"Response Y if they do, and N if they don't.\"\n",
        "            }\n",
        "        ),\n",
        "    ],\n",
        ")"
      ]
    },
    {
      "cell_type": "markdown",
      "metadata": {
        "id": "8XalvsOjMvdK"
      },
      "source": [
        "## Task 5: Evaluating our RAG pipeline\n",
        "\n",
        "All that's left to do now is evaluate our pipeline!"
      ]
    },
    {
      "cell_type": "code",
      "execution_count": 45,
      "metadata": {
        "colab": {
          "base_uri": "https://localhost:8080/"
        },
        "id": "6syFWlaF-olk",
        "outputId": "a7431b9f-adf2-406f-f505-9a6d53af880d"
      },
      "outputs": [
        {
          "name": "stdout",
          "output_type": "stream",
          "text": [
            "View the evaluation results for project 'HF RAG Pipeline - Evaluation - v3' at:\n",
            "https://smith.langchain.com/o/74600b6d-60cd-531f-91ed-9798b6cba9aa/datasets/b96be192-2912-4714-abd8-6018f140e1f0/compare?selectedSessions=560ecac7-a221-4bdb-892f-61461f0d9ef1\n",
            "\n",
            "View all tests for Dataset QLoRA RAG Dataset at:\n",
            "https://smith.langchain.com/o/74600b6d-60cd-531f-91ed-9798b6cba9aa/datasets/b96be192-2912-4714-abd8-6018f140e1f0\n",
            "[------------------------------------------------->] 6/6\n",
            " Experiment Results:\n",
            "        feedback.helpfulness  feedback.harmfulness  feedback.AI  feedback.scored_dopeness error  execution_time                                run_id\n",
            "count                   6.00                  6.00         6.00                      6.00     0            6.00                                     6\n",
            "unique                   NaN                   NaN          NaN                       NaN     0             NaN                                     6\n",
            "top                      NaN                   NaN          NaN                       NaN   NaN             NaN  bdec4361-f069-4483-85eb-86daa995108f\n",
            "freq                     NaN                   NaN          NaN                       NaN   NaN             NaN                                     1\n",
            "mean                    0.33                  0.00         0.33                      0.59   NaN            3.73                                   NaN\n",
            "std                     0.52                  0.00         0.52                      0.35   NaN            1.80                                   NaN\n",
            "min                     0.00                  0.00         0.00                      0.10   NaN            1.90                                   NaN\n",
            "25%                     0.00                  0.00         0.00                      0.33   NaN            2.27                                   NaN\n",
            "50%                     0.00                  0.00         0.00                      0.75   NaN            3.57                                   NaN\n",
            "75%                     0.75                  0.00         0.75                      0.84   NaN            4.59                                   NaN\n",
            "max                     1.00                  0.00         1.00                      0.90   NaN            6.59                                   NaN\n"
          ]
        },
        {
          "data": {
            "text/plain": [
              "{'project_name': 'HF RAG Pipeline - Evaluation - v3',\n",
              " 'results': {'041807c6-47d9-44cb-9eac-edde8e1f8511': {'input': {'question': 'What optimizer is used in QLoRA?'},\n",
              "   'feedback': [EvaluationResult(key='helpfulness', score=0, value='N', comment='The criterion for this task is \"helpfulness\". To assess this, we need to consider whether the submission is helpful, insightful, and appropriate.\\n\\n1. Helpfulness: The submission does provide an answer to the question, which could be considered helpful if it is correct.\\n\\n2. Insightfulness: The submission does not provide any additional information or insight beyond the direct answer to the question.\\n\\n3. Appropriateness: The appropriateness of the submission depends on its accuracy. If the information provided is incorrect, it would not be appropriate.\\n\\nAfter researching, it is found that QLoRA does not use \"Paged Optimizers\". Therefore, the information provided in the submission is incorrect, making it unhelpful and inappropriate.\\n\\nN', correction=None, evaluator_info={'__run': RunInfo(run_id=UUID('7448531f-e6ce-4b49-9ad3-978d09e132a3'))}, source_run_id=None, target_run_id=None),\n",
              "    EvaluationResult(key='harmfulness', score=0, value='N', comment='The criterion is asking if the submission is harmful, offensive, or inappropriate. \\n\\nLooking at the submission, it is a simple factual statement about the optimizer used in QLoRA. There is no language or content that could be considered harmful, offensive, or inappropriate. \\n\\nTherefore, the submission is not harmful, offensive, or inappropriate.\\n\\nN', correction=None, evaluator_info={'__run': RunInfo(run_id=UUID('21789b6b-6cc6-4349-a0d5-2f56bd47664e'))}, source_run_id=None, target_run_id=None),\n",
              "    EvaluationResult(key='AI', score=0, value='N', comment='The criterion is to assess whether the response feels like it was generated by an AI. The response provided does not contain any obvious signs of being AI-generated, such as nonsensical phrases, lack of context, or robotic language. It is a straightforward answer to the question asked. Therefore, it does not feel AI-generated.\\n\\nN', correction=None, evaluator_info={'__run': RunInfo(run_id=UUID('da1d0a83-a88c-4aad-a0a6-a06bcf9bfda3'))}, source_run_id=None, target_run_id=None),\n",
              "    EvaluationResult(key='scored_dopeness', score=0.8, value=None, comment=\"The response is accurate and informative, providing the specific information asked for in the input. It is concise and to the point, which is generally appreciated in responses to technical questions. However, it lacks any additional context or explanation that might make it more engaging or helpful to someone who doesn't already know what Paged Optimizers are. It's also worth noting that the tone is very neutral, which could be seen as either a positive or a negative depending on personal preference.\", correction=None, evaluator_info={'__run': RunInfo(run_id=UUID('38244827-d935-4189-b558-a4f03749502a'))}, source_run_id=None, target_run_id=None)],\n",
              "   'execution_time': 1.895998,\n",
              "   'run_id': 'bdec4361-f069-4483-85eb-86daa995108f',\n",
              "   'output': '\\nAnswer:\\nQLoRA uses Paged Optimizers as part of its optimization techniques.'},\n",
              "  '0e6235c5-9985-4d06-8556-c201bf4eeca6': {'input': {'question': 'What data type was created in the QLoRA paper?'},\n",
              "   'feedback': [EvaluationResult(key='helpfulness', score=1, value='Y', comment='The criterion for this task is \"helpfulness\". \\n\\nThe submission provides a detailed answer to the question, explaining not only the data types created in the QLoRA paper but also their purpose and use. This information is relevant and insightful, as it gives context to the data types and their role in the QLoRA model. \\n\\nThe submission is also appropriate, as it directly addresses the question and provides a comprehensive answer. \\n\\nTherefore, the submission meets the criterion of being helpful, insightful, and appropriate.\\n\\nY', correction=None, evaluator_info={'__run': RunInfo(run_id=UUID('777aa4f4-cc60-4dd5-a16d-5c0c14cac26e'))}, source_run_id=None, target_run_id=None),\n",
              "    EvaluationResult(key='harmfulness', score=0, value='N', comment='The criterion asks if the submission is harmful, offensive, or inappropriate.\\n\\nLooking at the submission, it is a technical response to a question about a specific data type created in the QLoRA paper. The response is factual and informative, providing details about the data types used in the QLoRA model.\\n\\nThere is no content in the submission that could be considered harmful, offensive, or inappropriate. The language used is professional and the information provided is relevant to the question asked.\\n\\nTherefore, the submission is not harmful, offensive, or inappropriate.\\n\\nN', correction=None, evaluator_info={'__run': RunInfo(run_id=UUID('049279bf-e038-406b-a323-ba6b57e3c831'))}, source_run_id=None, target_run_id=None),\n",
              "    EvaluationResult(key='AI', score=0, value='N', comment='The criterion asks if the response feels like it was generated by an AI. The response provided is detailed, accurate, and well-structured. It does not exhibit any of the common signs of AI-generated text such as nonsensical phrases, lack of coherence, or abrupt topic changes. Therefore, it does not feel AI-generated.\\n\\nN', correction=None, evaluator_info={'__run': RunInfo(run_id=UUID('2c8afa9e-091d-4a55-a671-2e2a57bf5606'))}, source_run_id=None, target_run_id=None),\n",
              "    EvaluationResult(key='scored_dopeness', score=0.9, value=None, comment='This response is very informative and accurate. It directly answers the question and provides additional context about why these data types were proposed in the QLoRA paper. The language is clear and professional, and the response is well-structured. However, the use of technical terms without explanation may make it difficult for someone without a background in the subject to understand.', correction=None, evaluator_info={'__run': RunInfo(run_id=UUID('eeb18fdb-e235-4dfa-8807-5105e4121fe7'))}, source_run_id=None, target_run_id=None)],\n",
              "   'execution_time': 3.910412,\n",
              "   'run_id': '7f7a8ceb-7a2f-4bb8-b658-ff8fb0fafce2',\n",
              "   'output': '\\nAnswer:\\nThe QLoRA model uses two data types: one for storage, usually 4-bit NormalFloat, and one for computation, usually 16-bit BrainFloat. These data types were proposed in the QLoRA paper to help prevent memory spikes during gradient checkpointing and reduce the memory requirements for finetuning large models.'},\n",
              "  '38be3fd3-85e9-4dee-9aa5-945786256e29': {'input': {'question': 'What is a Retrieval Augmented Generation system?'},\n",
              "   'feedback': [EvaluationResult(key='helpfulness', score=0, value='N', comment='The criterion for this task is \"helpfulness\". \\n\\nThe submission is supposed to provide a definition or explanation of what a Retrieval Augmented Generation system is. However, the submission does not provide this information. Instead, it discusses other models and techniques that are not directly related to the question asked.\\n\\nThe submission also states that the context provided does not define a Retrieval Augmented Generation system. However, the context provided is the question itself, which is asking for a definition or explanation of the term. Therefore, the context does not need to provide a definition, as that is what the submission is supposed to do.\\n\\nBased on this, the submission is not helpful or insightful as it does not answer the question asked. It is also not appropriate as it discusses unrelated topics instead of providing the requested information.\\n\\nTherefore, the submission does not meet the criterion.\\n\\nN', correction=None, evaluator_info={'__run': RunInfo(run_id=UUID('e0115407-68a7-4eeb-a80c-a37f70282e61'))}, source_run_id=None, target_run_id=None),\n",
              "    EvaluationResult(key='harmfulness', score=0, value='N', comment='The criterion for this assessment is whether the submission is harmful, offensive, or inappropriate.\\n\\nLooking at the submission, it is a response to a question about a specific technical concept, the Retrieval Augmented Generation system. The response is not offensive or inappropriate in any way. It is a polite and professional attempt to answer the question, even though it does not provide a direct definition or explanation of the concept.\\n\\nThe submission does not contain any harmful content either. It does not promote any harmful actions or behaviors, nor does it contain any harmful misinformation.\\n\\nTherefore, the submission is not harmful, offensive, or inappropriate.\\n\\nN', correction=None, evaluator_info={'__run': RunInfo(run_id=UUID('73872f1f-0ffe-4d48-87ef-de3ec835baa6'))}, source_run_id=None, target_run_id=None),\n",
              "    EvaluationResult(key='AI', score=0, value='N', comment='The criterion asks if the response feels AI generated. The response provided does not seem to be AI generated as it is coherent, logical, and seems to be written by a human who is trying to make sense of the context provided. The language used is natural and the response is well-structured. Therefore, the response does not feel AI generated.\\n\\nN', correction=None, evaluator_info={'__run': RunInfo(run_id=UUID('dadc4c40-8538-455c-87b6-18134db84d28'))}, source_run_id=None, target_run_id=None),\n",
              "    EvaluationResult(key='scored_dopeness', score=0.2, value=None, comment=\"The response is not very dope because it doesn't actually answer the question. The user asked for a definition of a Retrieval Augmented Generation system, but the output doesn't provide that. Instead, it talks about other models and techniques that are not directly related to the question. The response is also a bit confusing because it mentions that these models and techniques are mentioned in the context provided, but there is no context provided in the input. The response is not completely useless because it does provide some information about related topics, but it's not very dope because it doesn't answer the question.\", correction=None, evaluator_info={'__run': RunInfo(run_id=UUID('6066ddfd-a834-429d-8862-3cc3acdcd655'))}, source_run_id=None, target_run_id=None)],\n",
              "   'execution_time': 4.818154,\n",
              "   'run_id': '0e8d69d4-b6be-440c-bc87-137cace505c7',\n",
              "   'output': \"\\nAnswer:\\nBased on the context provided, a Retrieval Augmented Generation system is not explicitly defined. However, there are mentions of various models and techniques such as Prefix-tuning, Holistic evaluation, LoRA-Finetuning, and IR-QLoRA. These seem to be related to language models and their fine-tuning or evaluation. But, there's no direct definition or explanation of a Retrieval Augmented Generation system in the context given.\"},\n",
              "  '698267b6-997b-46cf-ad7b-9ef6a1fe2479': {'input': {'question': 'Who authored the QLoRA paper?'},\n",
              "   'feedback': [EvaluationResult(key='helpfulness', score=0, value='N', comment='The criterion for this task is \"helpfulness\". The submission should be helpful, insightful, and appropriate. \\n\\nLooking at the submission, the answer provided does not give any information about the author of the QLoRA paper. However, it does state that the text does not provide the names of the authors. This could be helpful in the sense that it informs the user that the information they are looking for is not available in the given text. \\n\\nHowever, the submission does not provide any additional insight or information that could be useful to the user. It does not suggest where the user might find the information they are looking for, or provide any additional context about the QLoRA paper. \\n\\nIn terms of appropriateness, the submission is appropriate as it directly addresses the question asked. \\n\\nOverall, while the submission could be seen as somewhat helpful and appropriate, it lacks insight. Therefore, it does not fully meet the criteria. \\n\\nN', correction=None, evaluator_info={'__run': RunInfo(run_id=UUID('f4e24e1f-db1c-499a-b0d9-6ed19bff24da'))}, source_run_id=None, target_run_id=None),\n",
              "    EvaluationResult(key='harmfulness', score=0, value='N', comment='The criterion asks if the submission is harmful, offensive, or inappropriate. \\n\\nLooking at the submission, it is a simple statement saying that the text does not provide the names of the authors of the QLoRA paper. \\n\\nThere is nothing harmful, offensive, or inappropriate about this statement. It is a neutral response to the input question.\\n\\nTherefore, the submission is not harmful, offensive, or inappropriate.\\n\\nN', correction=None, evaluator_info={'__run': RunInfo(run_id=UUID('76321f82-39e7-44fb-93a2-db00e58669a5'))}, source_run_id=None, target_run_id=None),\n",
              "    EvaluationResult(key='AI', score=1, value='Y', comment='The criterion asks if the response feels like it was generated by an AI. The submission is a straightforward response stating that the text does not provide the names of the authors of the QLoRA paper. This response could have been generated by a human or an AI, as it is a simple factual statement. However, it does not exhibit any particular human-like qualities such as emotion, opinion, or personal style. Therefore, it could be perceived as AI-generated due to its factual and neutral tone.\\n\\nY', correction=None, evaluator_info={'__run': RunInfo(run_id=UUID('91b43f44-0691-4547-b3c6-cdb7b59a0503'))}, source_run_id=None, target_run_id=None),\n",
              "    EvaluationResult(key='scored_dopeness', score=0.7, value=None, comment=\"The response is accurate and clear, but it doesn't provide any additional information or context. It's a straightforward answer to a straightforward question, but it doesn't go above and beyond in any way. It also doesn't provide any additional value or insight, such as a brief description of the QLoRA paper or why it might be significant. However, it does correctly interpret the question and provides a direct response, which is commendable.\", correction=None, evaluator_info={'__run': RunInfo(run_id=UUID('92d02966-3877-4cc2-8e81-5278ae4ce0dc'))}, source_run_id=None, target_run_id=None)],\n",
              "   'execution_time': 1.958356,\n",
              "   'run_id': 'f7b67486-f79d-428c-bb1f-afdc30a5ff82',\n",
              "   'output': '\\nAnswer:\\nThe text does not provide the names of the authors of the QLoRA paper.'},\n",
              "  '22998bb3-fa8f-4b72-b02b-8d4916e719f4': {'input': {'question': 'What is the most popular deep learning framework?'},\n",
              "   'feedback': [EvaluationResult(key='helpfulness', score=0, value='N', comment='The criterion for this task is \"helpfulness\". The submission should be helpful, insightful, and appropriate.\\n\\nLooking at the submission, the respondent has provided an answer that is appropriate to the question asked. They have acknowledged the context provided and explained why they cannot provide a definitive answer.\\n\\nHowever, the question asked for the most popular deep learning framework. The respondent did not provide this information, which is the main point of the question. Therefore, the response may not be considered helpful or insightful as it does not provide the information asked for in the question.\\n\\nSo, based on the criterion of helpfulness, the submission does not meet the criteria.\\n\\nN', correction=None, evaluator_info={'__run': RunInfo(run_id=UUID('88837217-c035-4192-be49-a73a49599631'))}, source_run_id=None, target_run_id=None),\n",
              "    EvaluationResult(key='harmfulness', score=0, value='N', comment='The criterion asks if the submission is harmful, offensive, or inappropriate.\\n\\nLooking at the submission, it is a response to a question about the most popular deep learning framework. The respondent states that they cannot definitively answer the question based on the provided context. \\n\\nThere is nothing in the response that can be considered harmful, offensive, or inappropriate. The respondent is simply stating their inability to answer the question due to lack of information.\\n\\nTherefore, the submission is not harmful, offensive, or inappropriate.\\n\\nN', correction=None, evaluator_info={'__run': RunInfo(run_id=UUID('24b39893-b900-4337-bb22-00338632205f'))}, source_run_id=None, target_run_id=None),\n",
              "    EvaluationResult(key='AI', score=1, value='Y', comment=\"The criterion asks if the response feels AI generated. The response provided does not directly answer the question asked, instead it refers to a context that was not provided in the input. This could be a sign of an AI generated response, as it seems to be referring to a context that doesn't exist, which could be a result of a misinterpretation or misunderstanding of the input. This is a common issue with AI generated responses. Therefore, the response does feel AI generated.\\n\\nY\", correction=None, evaluator_info={'__run': RunInfo(run_id=UUID('ad8f7650-e9bb-43be-bfda-a177b175c469'))}, source_run_id=None, target_run_id=None),\n",
              "    EvaluationResult(key='scored_dopeness', score=0.1, value=None, comment=\"The response is not dope at all because it doesn't answer the question. The question is asking for the most popular deep learning framework, but the response talks about the lack of context and doesn't provide any useful information. The response could have mentioned some popular deep learning frameworks like TensorFlow, PyTorch, or Keras, even if it couldn't definitively say which one is the most popular. Therefore, the score is very low.\", correction=None, evaluator_info={'__run': RunInfo(run_id=UUID('c50fc375-82c2-4e4f-9589-040f91e3fd07'))}, source_run_id=None, target_run_id=None)],\n",
              "   'execution_time': 3.223479,\n",
              "   'run_id': '04628cef-5dfd-4530-9411-2a3821ef8bb9',\n",
              "   'output': '\\nAnswer:\\nBased on the provided context, there are mentions of various research papers and models related to deep learning. However, there is no clear indication of which deep learning framework is the most popular one. Therefore, I cannot answer this question definitively with the given context.'},\n",
              "  'd9d5f61d-e521-453f-b384-ddaaf6559856': {'input': {'question': 'What significant improvements does the LoRA system make?'},\n",
              "   'feedback': [EvaluationResult(key='helpfulness', score=1, value='Y', comment='The criterion for this task is \"helpfulness\". \\n\\nThe submission provides a detailed explanation of the improvements that the LoRA system makes. It explains how the system uses low-rank matrices to modify pre-trained weights, which is a more efficient alternative to full model retraining. This is helpful information for someone trying to understand the benefits of the LoRA system.\\n\\nThe submission also discusses how the LoRA system mitigates performance degradation caused by weight quantization in Large Language Models (LLMs) by fine-tuning additional adapters for downstream tasks. This is insightful information that provides a deeper understanding of the system\\'s capabilities.\\n\\nThe submission further explains that the fine-tuning of LoRA can be considered as fine-tuning a subset of weights in LLMs, where low-rank parameters facilitate the process. This is appropriate information that directly answers the question.\\n\\nThe submission also mentions a limitation of the LoRA system, which is its limited representation capability that hinders information recovery to some extent. This is helpful and insightful information that provides a balanced view of the system.\\n\\nFinally, the submission mentions an extension of LoRA called QLoRA that further enhances the efficiency of fine-tuning. This is appropriate information that provides additional insight into the system\\'s capabilities.\\n\\nBased on this analysis, the submission meets the criterion of being helpful, insightful, and appropriate.\\n\\nY', correction=None, evaluator_info={'__run': RunInfo(run_id=UUID('59d903ec-9278-4f7e-bd62-06e0d249f6a6'))}, source_run_id=None, target_run_id=None),\n",
              "    EvaluationResult(key='harmfulness', score=0, value='N', comment='The criterion for this assessment is whether the submission is harmful, offensive, or inappropriate.\\n\\nLooking at the submission, it is a technical explanation of the improvements made by the LoRA system. It does not contain any harmful, offensive, or inappropriate content. It is purely informational and relevant to the input question.\\n\\nTherefore, the submission is not harmful, offensive, or inappropriate.\\n\\nN', correction=None, evaluator_info={'__run': RunInfo(run_id=UUID('7c699af4-2b2a-40ff-b266-68de654ea343'))}, source_run_id=None, target_run_id=None),\n",
              "    EvaluationResult(key='AI', score=0, value='N', comment='The criterion asks if the response feels like it was generated by an AI. The response is well-structured, coherent, and provides a detailed explanation of the improvements made by the LoRA system. It uses technical language appropriately and maintains a consistent tone throughout. There are no obvious signs of AI generation such as nonsensical sentences, abrupt topic changes, or inappropriate language use. Therefore, the response does not feel AI generated.\\n\\nN', correction=None, evaluator_info={'__run': RunInfo(run_id=UUID('504fd57b-38a0-4e7d-a5d6-2c4fe33a0cd2'))}, source_run_id=None, target_run_id=None),\n",
              "    EvaluationResult(key='scored_dopeness', score=0.85, value=None, comment='The response is highly informative and detailed, providing a comprehensive understanding of the improvements made by the LoRA system. It uses technical language appropriately and accurately, demonstrating a deep understanding of the subject matter. The response also balances the positive aspects of the LoRA system with a mention of its limitations, providing a balanced view. However, the response might be a bit too technical for a layperson to understand, and it could have been made more engaging with the use of simpler language or analogies.', correction=None, evaluator_info={'__run': RunInfo(run_id=UUID('6b5e894f-bd4d-4d47-9ad4-4510b5ebb4d8'))}, source_run_id=None, target_run_id=None)],\n",
              "   'execution_time': 6.58555,\n",
              "   'run_id': '8f3c1708-859e-4df0-a425-c848e90d2d93',\n",
              "   'output': \"\\nAnswer:\\nThe LoRA system offers significant improvements in fine-tuning practices by applying low-rank matrices to modify pre-trained weights, providing a more efficient alternative to full model retraining. This approach allows for resource-efficient customization of Large Language Models (LLMs). Moreover, LoRA mitigates the performance degradation caused by weight quantization in LLMs by fine-tuning additional adapters for downstream tasks. These fine-tuned adapters can sometimes yield notable performance enhancements. The fine-tuning of LoRA can be roughly considered as fine-tuning a subset of weights in LLMs, where low-rank parameters facilitate the process. However, it's important to note that the limited representation capability of LoRA also hinders information recovery to some extent. An extension of LoRA called QLoRA further enhances the efficiency of fine-tuning.\"}},\n",
              " 'aggregate_metrics': None}"
            ]
          },
          "execution_count": 45,
          "metadata": {},
          "output_type": "execute_result"
        }
      ],
      "source": [
        "client.run_on_dataset(\n",
        "    dataset_name=dataset_name,\n",
        "    llm_or_chain_factory=retrieval_augmented_qa_chain,\n",
        "    evaluation=eval_config,\n",
        "    verbose=True,\n",
        "    project_name=\"HF RAG Pipeline - Evaluation - v3\",\n",
        "    project_metadata={\"version\": \"1.0.0\"},\n",
        ")"
      ]
    },
    {
      "cell_type": "code",
      "execution_count": null,
      "metadata": {
        "id": "C7dFEpfdltov"
      },
      "outputs": [],
      "source": []
    }
  ],
  "metadata": {
    "colab": {
      "provenance": []
    },
    "kernelspec": {
      "display_name": "Python 3",
      "name": "python3"
    },
    "language_info": {
      "name": "python"
    }
  },
  "nbformat": 4,
  "nbformat_minor": 0
}
